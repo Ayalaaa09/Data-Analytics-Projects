{
  "nbformat": 4,
  "nbformat_minor": 0,
  "metadata": {
    "colab": {
      "provenance": []
    },
    "kernelspec": {
      "name": "python3",
      "display_name": "Python 3"
    },
    "language_info": {
      "name": "python"
    }
  },
  "cells": [
    {
      "cell_type": "markdown",
      "source": [
        "# Project 2 - Pandas & Visualization 101\n",
        "\n",
        "---\n",
        "\n",
        "- Your Name Here: Anthony Ayala\n",
        "- WFU Email Address: ayalax19@wfu.edu\n",
        "- Submission Date: 07/23/23\n"
      ],
      "metadata": {
        "id": "_uZX9XlGwPDw"
      }
    },
    {
      "cell_type": "markdown",
      "source": [
        "# Instructions\n",
        "\n",
        "1. Download the notebook `pandas_viz_101_yournamehere.ipynb` and the dataset `AmazonReviews.json` from the course website.\n",
        "\n",
        "2. Open the notebook on your local computer; Or upload and open it in Google Colab.\n",
        "\n",
        "3. Replace the placeholder text above with your name, email address, and submission date.\n",
        "\n",
        "4. This is a simple project made up of mini-tasks. Simply write the code to answer the question, and be sure to display your results!\n",
        "\n",
        "5. Please submit your notebook in **HTML** on Canvas."
      ],
      "metadata": {
        "id": "ps5h-iViwSju"
      }
    },
    {
      "cell_type": "markdown",
      "source": [
        "# Amazon Reviews\n",
        "\n",
        "The `AmazonReviews.json` dataset contains over 370,000 reviews of products in Beauty and Personal Care. The data was initially scraped, munged and prepped by Jianno Ni (https://nijianmo.github.io/) an NLP researcher/engineer at Google.\n",
        "\n",
        "\n",
        "Your challenge is to further prepare the data (easy), create summaries and charts answering various questions about the data (also easy). To complete this project, please follow these steps:"
      ],
      "metadata": {
        "id": "Ryx5XdieeOSw"
      }
    },
    {
      "cell_type": "markdown",
      "source": [
        "## Step 0. Load Libraries\n",
        "\n",
        "Load the following libraries, you may need to install them first.\n",
        "- Data Manipulation: `pandas`, `numpy`\n",
        "- Data Visualization：`seaborn`, `matplotlib.pyplot`"
      ],
      "metadata": {
        "id": "rZ22wR9mwUyh"
      }
    },
    {
      "cell_type": "code",
      "source": [
        "import pandas as pd\n",
        "import numpy as np\n",
        "import seaborn as sns\n",
        "import matplotlib.pyplot as plt"
      ],
      "metadata": {
        "id": "FLhTfKjyy89g"
      },
      "execution_count": 1,
      "outputs": []
    },
    {
      "cell_type": "code",
      "source": [
        "import warnings\n",
        "warnings.filterwarnings('ignore')"
      ],
      "metadata": {
        "id": "b0ViS_wk7wTR"
      },
      "execution_count": 2,
      "outputs": []
    },
    {
      "cell_type": "markdown",
      "source": [
        "## Step 1. Stage\n",
        "\n",
        "1. Use `pd.read_json()` from `pandas` to read in `AmazonReviews.json` data file, store it as a new data frame called `\"df_review\"`\n",
        "\n",
        "2. Display the first 7 records\n",
        "\n",
        "3. Check the shape and data types using `info()`"
      ],
      "metadata": {
        "id": "X4wKZ39my7C7"
      }
    },
    {
      "cell_type": "code",
      "source": [
        "df_review = pd.read_json(\"/content/AmazonReviews-1.json\")"
      ],
      "metadata": {
        "id": "mjfPhRmazTVp"
      },
      "execution_count": 3,
      "outputs": []
    },
    {
      "cell_type": "code",
      "source": [
        "# Display the first 7 records and we will do this by using the .head() function\n",
        "df_review.head(7)"
      ],
      "metadata": {
        "id": "ZAFCXQpNFN_E",
        "colab": {
          "base_uri": "https://localhost:8080/",
          "height": 269
        },
        "outputId": "cf739843-af36-431e-ea08-5e2937094f01"
      },
      "execution_count": 4,
      "outputs": [
        {
          "output_type": "execute_result",
          "data": {
            "text/plain": [
              "       reviewerID        reviewerName   reviewTime      itemID  \\\n",
              "0  A1V6B6TNIC10QE   theodore j bigham  02 19, 2015  0143026860   \n",
              "1  A2F5GHSXFQ0W6J        Mary K. Byke  12 18, 2014  0143026860   \n",
              "2  A1572GUYS7DGSR             David G  08 10, 2014  0143026860   \n",
              "3   A1PSGLFK1NSVO                TamB  03 11, 2013  0143026860   \n",
              "4   A6IKXKZMTKGSC          shoecanary  12 25, 2011  0143026860   \n",
              "5  A36NF437WZLQ9E           W. Powell  02 26, 2010  0143026860   \n",
              "6  A10Q8NIFOVOHFV  Robert S. Clay Jr.   03 7, 2001  0143026860   \n",
              "\n",
              "                                          reviewText  overallRating  \\\n",
              "0                                              great              1   \n",
              "1  My  husband wanted to reading about the Negro ...              4   \n",
              "2  This book was very informative, covering all a...              4   \n",
              "3  I am already a baseball fan and knew a bit abo...              5   \n",
              "4  This was a good story of the Black leagues. I ...              5   \n",
              "5  Today I gave a book about the Negro Leagues of...              5   \n",
              "6  The story of race relations in American histor...              4   \n",
              "\n",
              "                                             summary  verified  \n",
              "0                                           One Star      True  \n",
              "1  ... to reading about the Negro Baseball and th...      True  \n",
              "2                                     Worth the Read      True  \n",
              "3                                          Good Read      True  \n",
              "4                More than facts, a good story read!      True  \n",
              "5                         The Gift of Black Baseball     False  \n",
              "6                     Baseball, America, and racism.     False  "
            ],
            "text/html": [
              "\n",
              "\n",
              "  <div id=\"df-26e4d1bf-6192-445d-9e9e-22dc3501d4a2\">\n",
              "    <div class=\"colab-df-container\">\n",
              "      <div>\n",
              "<style scoped>\n",
              "    .dataframe tbody tr th:only-of-type {\n",
              "        vertical-align: middle;\n",
              "    }\n",
              "\n",
              "    .dataframe tbody tr th {\n",
              "        vertical-align: top;\n",
              "    }\n",
              "\n",
              "    .dataframe thead th {\n",
              "        text-align: right;\n",
              "    }\n",
              "</style>\n",
              "<table border=\"1\" class=\"dataframe\">\n",
              "  <thead>\n",
              "    <tr style=\"text-align: right;\">\n",
              "      <th></th>\n",
              "      <th>reviewerID</th>\n",
              "      <th>reviewerName</th>\n",
              "      <th>reviewTime</th>\n",
              "      <th>itemID</th>\n",
              "      <th>reviewText</th>\n",
              "      <th>overallRating</th>\n",
              "      <th>summary</th>\n",
              "      <th>verified</th>\n",
              "    </tr>\n",
              "  </thead>\n",
              "  <tbody>\n",
              "    <tr>\n",
              "      <th>0</th>\n",
              "      <td>A1V6B6TNIC10QE</td>\n",
              "      <td>theodore j bigham</td>\n",
              "      <td>02 19, 2015</td>\n",
              "      <td>0143026860</td>\n",
              "      <td>great</td>\n",
              "      <td>1</td>\n",
              "      <td>One Star</td>\n",
              "      <td>True</td>\n",
              "    </tr>\n",
              "    <tr>\n",
              "      <th>1</th>\n",
              "      <td>A2F5GHSXFQ0W6J</td>\n",
              "      <td>Mary K. Byke</td>\n",
              "      <td>12 18, 2014</td>\n",
              "      <td>0143026860</td>\n",
              "      <td>My  husband wanted to reading about the Negro ...</td>\n",
              "      <td>4</td>\n",
              "      <td>... to reading about the Negro Baseball and th...</td>\n",
              "      <td>True</td>\n",
              "    </tr>\n",
              "    <tr>\n",
              "      <th>2</th>\n",
              "      <td>A1572GUYS7DGSR</td>\n",
              "      <td>David G</td>\n",
              "      <td>08 10, 2014</td>\n",
              "      <td>0143026860</td>\n",
              "      <td>This book was very informative, covering all a...</td>\n",
              "      <td>4</td>\n",
              "      <td>Worth the Read</td>\n",
              "      <td>True</td>\n",
              "    </tr>\n",
              "    <tr>\n",
              "      <th>3</th>\n",
              "      <td>A1PSGLFK1NSVO</td>\n",
              "      <td>TamB</td>\n",
              "      <td>03 11, 2013</td>\n",
              "      <td>0143026860</td>\n",
              "      <td>I am already a baseball fan and knew a bit abo...</td>\n",
              "      <td>5</td>\n",
              "      <td>Good Read</td>\n",
              "      <td>True</td>\n",
              "    </tr>\n",
              "    <tr>\n",
              "      <th>4</th>\n",
              "      <td>A6IKXKZMTKGSC</td>\n",
              "      <td>shoecanary</td>\n",
              "      <td>12 25, 2011</td>\n",
              "      <td>0143026860</td>\n",
              "      <td>This was a good story of the Black leagues. I ...</td>\n",
              "      <td>5</td>\n",
              "      <td>More than facts, a good story read!</td>\n",
              "      <td>True</td>\n",
              "    </tr>\n",
              "    <tr>\n",
              "      <th>5</th>\n",
              "      <td>A36NF437WZLQ9E</td>\n",
              "      <td>W. Powell</td>\n",
              "      <td>02 26, 2010</td>\n",
              "      <td>0143026860</td>\n",
              "      <td>Today I gave a book about the Negro Leagues of...</td>\n",
              "      <td>5</td>\n",
              "      <td>The Gift of Black Baseball</td>\n",
              "      <td>False</td>\n",
              "    </tr>\n",
              "    <tr>\n",
              "      <th>6</th>\n",
              "      <td>A10Q8NIFOVOHFV</td>\n",
              "      <td>Robert S. Clay Jr.</td>\n",
              "      <td>03 7, 2001</td>\n",
              "      <td>0143026860</td>\n",
              "      <td>The story of race relations in American histor...</td>\n",
              "      <td>4</td>\n",
              "      <td>Baseball, America, and racism.</td>\n",
              "      <td>False</td>\n",
              "    </tr>\n",
              "  </tbody>\n",
              "</table>\n",
              "</div>\n",
              "      <button class=\"colab-df-convert\" onclick=\"convertToInteractive('df-26e4d1bf-6192-445d-9e9e-22dc3501d4a2')\"\n",
              "              title=\"Convert this dataframe to an interactive table.\"\n",
              "              style=\"display:none;\">\n",
              "\n",
              "  <svg xmlns=\"http://www.w3.org/2000/svg\" height=\"24px\"viewBox=\"0 0 24 24\"\n",
              "       width=\"24px\">\n",
              "    <path d=\"M0 0h24v24H0V0z\" fill=\"none\"/>\n",
              "    <path d=\"M18.56 5.44l.94 2.06.94-2.06 2.06-.94-2.06-.94-.94-2.06-.94 2.06-2.06.94zm-11 1L8.5 8.5l.94-2.06 2.06-.94-2.06-.94L8.5 2.5l-.94 2.06-2.06.94zm10 10l.94 2.06.94-2.06 2.06-.94-2.06-.94-.94-2.06-.94 2.06-2.06.94z\"/><path d=\"M17.41 7.96l-1.37-1.37c-.4-.4-.92-.59-1.43-.59-.52 0-1.04.2-1.43.59L10.3 9.45l-7.72 7.72c-.78.78-.78 2.05 0 2.83L4 21.41c.39.39.9.59 1.41.59.51 0 1.02-.2 1.41-.59l7.78-7.78 2.81-2.81c.8-.78.8-2.07 0-2.86zM5.41 20L4 18.59l7.72-7.72 1.47 1.35L5.41 20z\"/>\n",
              "  </svg>\n",
              "      </button>\n",
              "\n",
              "\n",
              "\n",
              "    <div id=\"df-4a5ff573-f237-4d15-826d-cdf9f092832a\">\n",
              "      <button class=\"colab-df-quickchart\" onclick=\"quickchart('df-4a5ff573-f237-4d15-826d-cdf9f092832a')\"\n",
              "              title=\"Suggest charts.\"\n",
              "              style=\"display:none;\">\n",
              "\n",
              "<svg xmlns=\"http://www.w3.org/2000/svg\" height=\"24px\"viewBox=\"0 0 24 24\"\n",
              "     width=\"24px\">\n",
              "    <g>\n",
              "        <path d=\"M19 3H5c-1.1 0-2 .9-2 2v14c0 1.1.9 2 2 2h14c1.1 0 2-.9 2-2V5c0-1.1-.9-2-2-2zM9 17H7v-7h2v7zm4 0h-2V7h2v10zm4 0h-2v-4h2v4z\"/>\n",
              "    </g>\n",
              "</svg>\n",
              "      </button>\n",
              "    </div>\n",
              "\n",
              "<style>\n",
              "  .colab-df-quickchart {\n",
              "    background-color: #E8F0FE;\n",
              "    border: none;\n",
              "    border-radius: 50%;\n",
              "    cursor: pointer;\n",
              "    display: none;\n",
              "    fill: #1967D2;\n",
              "    height: 32px;\n",
              "    padding: 0 0 0 0;\n",
              "    width: 32px;\n",
              "  }\n",
              "\n",
              "  .colab-df-quickchart:hover {\n",
              "    background-color: #E2EBFA;\n",
              "    box-shadow: 0px 1px 2px rgba(60, 64, 67, 0.3), 0px 1px 3px 1px rgba(60, 64, 67, 0.15);\n",
              "    fill: #174EA6;\n",
              "  }\n",
              "\n",
              "  [theme=dark] .colab-df-quickchart {\n",
              "    background-color: #3B4455;\n",
              "    fill: #D2E3FC;\n",
              "  }\n",
              "\n",
              "  [theme=dark] .colab-df-quickchart:hover {\n",
              "    background-color: #434B5C;\n",
              "    box-shadow: 0px 1px 3px 1px rgba(0, 0, 0, 0.15);\n",
              "    filter: drop-shadow(0px 1px 2px rgba(0, 0, 0, 0.3));\n",
              "    fill: #FFFFFF;\n",
              "  }\n",
              "</style>\n",
              "\n",
              "    <script>\n",
              "      async function quickchart(key) {\n",
              "        const containerElement = document.querySelector('#' + key);\n",
              "        const charts = await google.colab.kernel.invokeFunction(\n",
              "            'suggestCharts', [key], {});\n",
              "      }\n",
              "    </script>\n",
              "\n",
              "      <script>\n",
              "\n",
              "function displayQuickchartButton(domScope) {\n",
              "  let quickchartButtonEl =\n",
              "    domScope.querySelector('#df-4a5ff573-f237-4d15-826d-cdf9f092832a button.colab-df-quickchart');\n",
              "  quickchartButtonEl.style.display =\n",
              "    google.colab.kernel.accessAllowed ? 'block' : 'none';\n",
              "}\n",
              "\n",
              "        displayQuickchartButton(document);\n",
              "      </script>\n",
              "      <style>\n",
              "    .colab-df-container {\n",
              "      display:flex;\n",
              "      flex-wrap:wrap;\n",
              "      gap: 12px;\n",
              "    }\n",
              "\n",
              "    .colab-df-convert {\n",
              "      background-color: #E8F0FE;\n",
              "      border: none;\n",
              "      border-radius: 50%;\n",
              "      cursor: pointer;\n",
              "      display: none;\n",
              "      fill: #1967D2;\n",
              "      height: 32px;\n",
              "      padding: 0 0 0 0;\n",
              "      width: 32px;\n",
              "    }\n",
              "\n",
              "    .colab-df-convert:hover {\n",
              "      background-color: #E2EBFA;\n",
              "      box-shadow: 0px 1px 2px rgba(60, 64, 67, 0.3), 0px 1px 3px 1px rgba(60, 64, 67, 0.15);\n",
              "      fill: #174EA6;\n",
              "    }\n",
              "\n",
              "    [theme=dark] .colab-df-convert {\n",
              "      background-color: #3B4455;\n",
              "      fill: #D2E3FC;\n",
              "    }\n",
              "\n",
              "    [theme=dark] .colab-df-convert:hover {\n",
              "      background-color: #434B5C;\n",
              "      box-shadow: 0px 1px 3px 1px rgba(0, 0, 0, 0.15);\n",
              "      filter: drop-shadow(0px 1px 2px rgba(0, 0, 0, 0.3));\n",
              "      fill: #FFFFFF;\n",
              "    }\n",
              "  </style>\n",
              "\n",
              "      <script>\n",
              "        const buttonEl =\n",
              "          document.querySelector('#df-26e4d1bf-6192-445d-9e9e-22dc3501d4a2 button.colab-df-convert');\n",
              "        buttonEl.style.display =\n",
              "          google.colab.kernel.accessAllowed ? 'block' : 'none';\n",
              "\n",
              "        async function convertToInteractive(key) {\n",
              "          const element = document.querySelector('#df-26e4d1bf-6192-445d-9e9e-22dc3501d4a2');\n",
              "          const dataTable =\n",
              "            await google.colab.kernel.invokeFunction('convertToInteractive',\n",
              "                                                     [key], {});\n",
              "          if (!dataTable) return;\n",
              "\n",
              "          const docLinkHtml = 'Like what you see? Visit the ' +\n",
              "            '<a target=\"_blank\" href=https://colab.research.google.com/notebooks/data_table.ipynb>data table notebook</a>'\n",
              "            + ' to learn more about interactive tables.';\n",
              "          element.innerHTML = '';\n",
              "          dataTable['output_type'] = 'display_data';\n",
              "          await google.colab.output.renderOutput(dataTable, element);\n",
              "          const docLink = document.createElement('div');\n",
              "          docLink.innerHTML = docLinkHtml;\n",
              "          element.appendChild(docLink);\n",
              "        }\n",
              "      </script>\n",
              "    </div>\n",
              "  </div>\n"
            ]
          },
          "metadata": {},
          "execution_count": 4
        }
      ]
    },
    {
      "cell_type": "code",
      "source": [
        "# Check shape by using .shape function\n",
        "df_review.shape # Output: 371,345 rows and 8 columns"
      ],
      "metadata": {
        "id": "C-uOnkAUzUF0",
        "colab": {
          "base_uri": "https://localhost:8080/"
        },
        "outputId": "c65f9507-7c4f-4d0a-cfea-902cd4310df4"
      },
      "execution_count": 5,
      "outputs": [
        {
          "output_type": "execute_result",
          "data": {
            "text/plain": [
              "(371345, 8)"
            ]
          },
          "metadata": {},
          "execution_count": 5
        }
      ]
    },
    {
      "cell_type": "code",
      "source": [
        "# Then we will chaeck the data type by using info()\n",
        "df_review.info()\n",
        "\n",
        "# With this info) function, we can see 8 columns, the names of the columns, non-Null counts, and the data types of the columns.\n",
        "# Based off what we see, we have data types of objects (strings), one integer column which is \"overall rating\", and one boolean column which is \"verified\"."
      ],
      "metadata": {
        "colab": {
          "base_uri": "https://localhost:8080/"
        },
        "id": "KpHIDI6pflQv",
        "outputId": "4cd3b206-efea-4482-db5f-8dd0477e2a54"
      },
      "execution_count": 6,
      "outputs": [
        {
          "output_type": "stream",
          "name": "stdout",
          "text": [
            "<class 'pandas.core.frame.DataFrame'>\n",
            "RangeIndex: 371345 entries, 0 to 371344\n",
            "Data columns (total 8 columns):\n",
            " #   Column         Non-Null Count   Dtype \n",
            "---  ------         --------------   ----- \n",
            " 0   reviewerID     371345 non-null  object\n",
            " 1   reviewerName   371307 non-null  object\n",
            " 2   reviewTime     371345 non-null  object\n",
            " 3   itemID         371345 non-null  object\n",
            " 4   reviewText     370946 non-null  object\n",
            " 5   overallRating  371345 non-null  int64 \n",
            " 6   summary        371139 non-null  object\n",
            " 7   verified       371345 non-null  bool  \n",
            "dtypes: bool(1), int64(1), object(6)\n",
            "memory usage: 20.2+ MB\n"
          ]
        }
      ]
    },
    {
      "cell_type": "markdown",
      "source": [
        "## Step 2. Structure & Transform (Part I)\n",
        "\n",
        "Applying data cleaning methods to the dataset `df_review`:\n",
        "\n",
        "1. Summarize NAs: Report the **number** and **percentage** of missing values for each column\n",
        "\n",
        "2. Clean NAs: Drop any rows where `reviewText` is None\n",
        "\n",
        "3. Drop the columns of `summary` and `reviewerName`\n",
        "\n",
        "4. Double-check NAs: Given the processed data, double check the **number** and **percentage** of missing values for each column\n",
        "> Hint: There sholud be no NAs anymore\n",
        "\n",
        "5. Explore the column of `verified`, report the percentage of rows that are verified using `value_counts()`\n",
        "\n",
        "6. Filter and keep the subset of data where`verified==True`. Store this as a new data frame `df_review_prep`\n",
        "> Hint: There should be 322098 rows"
      ],
      "metadata": {
        "id": "dPZHoZ2i4NUN"
      }
    },
    {
      "cell_type": "code",
      "source": [
        "# Step 1. Summarize NAs: Report the number and percentage of missing values for each column\n",
        "# We will do this by using the function df.isnull().sum(axis = 0) or we can use df.isna().sum()\n",
        "# We use axis = 0 as we are curious about the missing values for each column by row\n",
        "\n",
        "print(df_review.isnull().sum(axis = 0))\n",
        "\n",
        "# We find that we have 38 nulls under reviwerName, 399 nulls under reviewText, and 206 nulls under summary."
      ],
      "metadata": {
        "id": "Yvzsv8kM4OQA",
        "colab": {
          "base_uri": "https://localhost:8080/"
        },
        "outputId": "f05c298e-c3f2-4cc0-df9b-2954088a19ea"
      },
      "execution_count": 7,
      "outputs": [
        {
          "output_type": "stream",
          "name": "stdout",
          "text": [
            "reviewerID         0\n",
            "reviewerName      38\n",
            "reviewTime         0\n",
            "itemID             0\n",
            "reviewText       399\n",
            "overallRating      0\n",
            "summary          206\n",
            "verified           0\n",
            "dtype: int64\n"
          ]
        }
      ]
    },
    {
      "cell_type": "code",
      "source": [
        "# Step 1 Continued, Let's get percent null\n",
        "\n",
        "((df_review.isna().sum()/df_review.shape[0])*100).sort_values(ascending=False)\n",
        "\n",
        "# reviewText has the most amount of nulls at roughly 10.7% and the rest of the percentages are less than 10% and close to 0.\n",
        "# This appears to be quite good in terms of only having a little bit of missing data."
      ],
      "metadata": {
        "colab": {
          "base_uri": "https://localhost:8080/"
        },
        "id": "QByTuPmfi4Rr",
        "outputId": "59d7830b-a26c-453a-aa02-5fe02cc1abce"
      },
      "execution_count": 8,
      "outputs": [
        {
          "output_type": "execute_result",
          "data": {
            "text/plain": [
              "reviewText       0.107447\n",
              "summary          0.055474\n",
              "reviewerName     0.010233\n",
              "reviewerID       0.000000\n",
              "reviewTime       0.000000\n",
              "itemID           0.000000\n",
              "overallRating    0.000000\n",
              "verified         0.000000\n",
              "dtype: float64"
            ]
          },
          "metadata": {},
          "execution_count": 8
        }
      ]
    },
    {
      "cell_type": "code",
      "source": [
        "# Step 2. Clean NAs: Drop any rows where reviewText is None.\n",
        "# We specifically selecting a row of interest (reviewText) and then removing all the nulls under reviewText.\n",
        "# We select a single row by using single brackets and then we will use dropna()\n",
        "# We will also assign this cleaning step a variable name so that we can reference it for later and have a copy of dataset\n",
        "\n",
        "df_review_clean = df_review.dropna(subset=['reviewText'])\n",
        "print(df_review_clean.isnull().sum(axis = 0))\n",
        "\n",
        "# Not only did we remove a chunk of observations, but we also see that reviewText has no nulls and that the other colummns like reviwerName and summary have less nulls now.\n",
        "print(df_review_clean.shape) # Output: 370,946 rows and 8 columns."
      ],
      "metadata": {
        "colab": {
          "base_uri": "https://localhost:8080/"
        },
        "id": "q3bIwjhOhKbV",
        "outputId": "ef41c0d3-1f12-476c-93f2-5e5351df4462"
      },
      "execution_count": 9,
      "outputs": [
        {
          "output_type": "stream",
          "name": "stdout",
          "text": [
            "reviewerID         0\n",
            "reviewerName      38\n",
            "reviewTime         0\n",
            "itemID             0\n",
            "reviewText         0\n",
            "overallRating      0\n",
            "summary          190\n",
            "verified           0\n",
            "dtype: int64\n",
            "(370946, 8)\n"
          ]
        }
      ]
    },
    {
      "cell_type": "code",
      "source": [
        "# Step 3. Drop the columns of summary and reviewerName\n",
        "# We will drop coulmns by using the function df.drop(['column_name'], axis = 1, inplace=True) and for selecting more than one column [[]]\n",
        "# We could also do df.drop(columns = [[]]) and assign a new variable to this data set\n",
        "df_review_clean2 = df_review_clean.drop(columns=['summary', 'reviewerName'])\n",
        "df_review_clean2.info()"
      ],
      "metadata": {
        "id": "k6zT4kLB3P4H",
        "colab": {
          "base_uri": "https://localhost:8080/"
        },
        "outputId": "5690e03e-92bd-4101-ca8c-e6c1485aec88"
      },
      "execution_count": 10,
      "outputs": [
        {
          "output_type": "stream",
          "name": "stdout",
          "text": [
            "<class 'pandas.core.frame.DataFrame'>\n",
            "Int64Index: 370946 entries, 0 to 371344\n",
            "Data columns (total 6 columns):\n",
            " #   Column         Non-Null Count   Dtype \n",
            "---  ------         --------------   ----- \n",
            " 0   reviewerID     370946 non-null  object\n",
            " 1   reviewTime     370946 non-null  object\n",
            " 2   itemID         370946 non-null  object\n",
            " 3   reviewText     370946 non-null  object\n",
            " 4   overallRating  370946 non-null  int64 \n",
            " 5   verified       370946 non-null  bool  \n",
            "dtypes: bool(1), int64(1), object(4)\n",
            "memory usage: 17.3+ MB\n"
          ]
        }
      ]
    },
    {
      "cell_type": "code",
      "source": [
        "# Step 4. Double-check NAs: Given the processed data, double check the number and percentage of missing values for each column\n",
        "# We will double check the nulls by using df.isnull().sum(axis = 0)\n",
        "\n",
        "print(df_review_clean2.isnull().sum(axis =0))\n",
        "\n",
        "# As we can see, we have no missing values now!"
      ],
      "metadata": {
        "id": "kunFXY213tn2",
        "colab": {
          "base_uri": "https://localhost:8080/"
        },
        "outputId": "4aac521a-dcd4-468f-8597-07f1c9192575"
      },
      "execution_count": 11,
      "outputs": [
        {
          "output_type": "stream",
          "name": "stdout",
          "text": [
            "reviewerID       0\n",
            "reviewTime       0\n",
            "itemID           0\n",
            "reviewText       0\n",
            "overallRating    0\n",
            "verified         0\n",
            "dtype: int64\n"
          ]
        }
      ]
    },
    {
      "cell_type": "code",
      "source": [
        "# Step 5. Explore the column of verified, report the percentage of rows that are verified using value_counts()\n",
        "# Select a single column\n",
        "# Report percentage by using value_counts(normalize = True)\n",
        "\n",
        "df_review_clean2['verified'].value_counts(normalize=True)\n",
        "\n",
        "# We have 86.83% of the reviews being verified and 13.17% of the reviews being unverified."
      ],
      "metadata": {
        "id": "Ow78nXrf5ZGS",
        "colab": {
          "base_uri": "https://localhost:8080/"
        },
        "outputId": "cb0dccfc-9919-44ad-b81c-d6f33d9054fa"
      },
      "execution_count": 12,
      "outputs": [
        {
          "output_type": "execute_result",
          "data": {
            "text/plain": [
              "True     0.868315\n",
              "False    0.131685\n",
              "Name: verified, dtype: float64"
            ]
          },
          "metadata": {},
          "execution_count": 12
        }
      ]
    },
    {
      "cell_type": "code",
      "source": [
        "# Step 6. Filter and keep the subset of data where verified==True. Store this as a new data frame df_review_prep\n",
        "# Hint: There should be 322098 rows\n",
        "# To perform this step, we will create a boolean mask and then apply this boolean mask to our cleaned data set (df_review_clean2).\n",
        "# Finally We will applpy the mask to filter the data and assign it a variable as we want a subset\n",
        "\n",
        "mask = df_review_clean2['verified'] == True\n",
        "df_review_prep = df_review_clean2[mask]\n",
        "df_review_prep\n",
        "\n",
        "# We got the right result as we have 322,098 rows that have verified == true and 6 columns total."
      ],
      "metadata": {
        "id": "hFxgL10xE7k2",
        "colab": {
          "base_uri": "https://localhost:8080/",
          "height": 423
        },
        "outputId": "8ec9f453-994e-4625-c8fe-40a32d0e1ce1"
      },
      "execution_count": 13,
      "outputs": [
        {
          "output_type": "execute_result",
          "data": {
            "text/plain": [
              "            reviewerID   reviewTime      itemID  \\\n",
              "0       A1V6B6TNIC10QE  02 19, 2015  0143026860   \n",
              "1       A2F5GHSXFQ0W6J  12 18, 2014  0143026860   \n",
              "2       A1572GUYS7DGSR  08 10, 2014  0143026860   \n",
              "3        A1PSGLFK1NSVO  03 11, 2013  0143026860   \n",
              "4        A6IKXKZMTKGSC  12 25, 2011  0143026860   \n",
              "...                ...          ...         ...   \n",
              "371340  A202DCI7TV1022  07 20, 2017  B01HJEGTYK   \n",
              "371341  A3FSOR5IJOFIBE  03 16, 2017  B01HJEGTYK   \n",
              "371342  A1B5DK6CTP2P24   03 1, 2017  B01HJEGTYK   \n",
              "371343  A23OUYS5IRMJS9  02 21, 2017  B01HJEGTYK   \n",
              "371344  A24KQ9RVU81L87  12 15, 2016  B01HJEGTYK   \n",
              "\n",
              "                                               reviewText  overallRating  \\\n",
              "0                                                   great              1   \n",
              "1       My  husband wanted to reading about the Negro ...              4   \n",
              "2       This book was very informative, covering all a...              4   \n",
              "3       I am already a baseball fan and knew a bit abo...              5   \n",
              "4       This was a good story of the Black leagues. I ...              5   \n",
              "...                                                   ...            ...   \n",
              "371340  It was awful. It was super frizzy and I tried ...              1   \n",
              "371341  I was skeptical about buying this.  Worried it...              5   \n",
              "371342                           Makes me look good fast.              5   \n",
              "371343  Way lighter than photo\\nNot mix blend of color...              2   \n",
              "371344  No return instructions/phone # in packaging.  ...              2   \n",
              "\n",
              "        verified  \n",
              "0           True  \n",
              "1           True  \n",
              "2           True  \n",
              "3           True  \n",
              "4           True  \n",
              "...          ...  \n",
              "371340      True  \n",
              "371341      True  \n",
              "371342      True  \n",
              "371343      True  \n",
              "371344      True  \n",
              "\n",
              "[322098 rows x 6 columns]"
            ],
            "text/html": [
              "\n",
              "\n",
              "  <div id=\"df-aa1b04ba-8c96-4aa8-a360-2ed4b7cf4d54\">\n",
              "    <div class=\"colab-df-container\">\n",
              "      <div>\n",
              "<style scoped>\n",
              "    .dataframe tbody tr th:only-of-type {\n",
              "        vertical-align: middle;\n",
              "    }\n",
              "\n",
              "    .dataframe tbody tr th {\n",
              "        vertical-align: top;\n",
              "    }\n",
              "\n",
              "    .dataframe thead th {\n",
              "        text-align: right;\n",
              "    }\n",
              "</style>\n",
              "<table border=\"1\" class=\"dataframe\">\n",
              "  <thead>\n",
              "    <tr style=\"text-align: right;\">\n",
              "      <th></th>\n",
              "      <th>reviewerID</th>\n",
              "      <th>reviewTime</th>\n",
              "      <th>itemID</th>\n",
              "      <th>reviewText</th>\n",
              "      <th>overallRating</th>\n",
              "      <th>verified</th>\n",
              "    </tr>\n",
              "  </thead>\n",
              "  <tbody>\n",
              "    <tr>\n",
              "      <th>0</th>\n",
              "      <td>A1V6B6TNIC10QE</td>\n",
              "      <td>02 19, 2015</td>\n",
              "      <td>0143026860</td>\n",
              "      <td>great</td>\n",
              "      <td>1</td>\n",
              "      <td>True</td>\n",
              "    </tr>\n",
              "    <tr>\n",
              "      <th>1</th>\n",
              "      <td>A2F5GHSXFQ0W6J</td>\n",
              "      <td>12 18, 2014</td>\n",
              "      <td>0143026860</td>\n",
              "      <td>My  husband wanted to reading about the Negro ...</td>\n",
              "      <td>4</td>\n",
              "      <td>True</td>\n",
              "    </tr>\n",
              "    <tr>\n",
              "      <th>2</th>\n",
              "      <td>A1572GUYS7DGSR</td>\n",
              "      <td>08 10, 2014</td>\n",
              "      <td>0143026860</td>\n",
              "      <td>This book was very informative, covering all a...</td>\n",
              "      <td>4</td>\n",
              "      <td>True</td>\n",
              "    </tr>\n",
              "    <tr>\n",
              "      <th>3</th>\n",
              "      <td>A1PSGLFK1NSVO</td>\n",
              "      <td>03 11, 2013</td>\n",
              "      <td>0143026860</td>\n",
              "      <td>I am already a baseball fan and knew a bit abo...</td>\n",
              "      <td>5</td>\n",
              "      <td>True</td>\n",
              "    </tr>\n",
              "    <tr>\n",
              "      <th>4</th>\n",
              "      <td>A6IKXKZMTKGSC</td>\n",
              "      <td>12 25, 2011</td>\n",
              "      <td>0143026860</td>\n",
              "      <td>This was a good story of the Black leagues. I ...</td>\n",
              "      <td>5</td>\n",
              "      <td>True</td>\n",
              "    </tr>\n",
              "    <tr>\n",
              "      <th>...</th>\n",
              "      <td>...</td>\n",
              "      <td>...</td>\n",
              "      <td>...</td>\n",
              "      <td>...</td>\n",
              "      <td>...</td>\n",
              "      <td>...</td>\n",
              "    </tr>\n",
              "    <tr>\n",
              "      <th>371340</th>\n",
              "      <td>A202DCI7TV1022</td>\n",
              "      <td>07 20, 2017</td>\n",
              "      <td>B01HJEGTYK</td>\n",
              "      <td>It was awful. It was super frizzy and I tried ...</td>\n",
              "      <td>1</td>\n",
              "      <td>True</td>\n",
              "    </tr>\n",
              "    <tr>\n",
              "      <th>371341</th>\n",
              "      <td>A3FSOR5IJOFIBE</td>\n",
              "      <td>03 16, 2017</td>\n",
              "      <td>B01HJEGTYK</td>\n",
              "      <td>I was skeptical about buying this.  Worried it...</td>\n",
              "      <td>5</td>\n",
              "      <td>True</td>\n",
              "    </tr>\n",
              "    <tr>\n",
              "      <th>371342</th>\n",
              "      <td>A1B5DK6CTP2P24</td>\n",
              "      <td>03 1, 2017</td>\n",
              "      <td>B01HJEGTYK</td>\n",
              "      <td>Makes me look good fast.</td>\n",
              "      <td>5</td>\n",
              "      <td>True</td>\n",
              "    </tr>\n",
              "    <tr>\n",
              "      <th>371343</th>\n",
              "      <td>A23OUYS5IRMJS9</td>\n",
              "      <td>02 21, 2017</td>\n",
              "      <td>B01HJEGTYK</td>\n",
              "      <td>Way lighter than photo\\nNot mix blend of color...</td>\n",
              "      <td>2</td>\n",
              "      <td>True</td>\n",
              "    </tr>\n",
              "    <tr>\n",
              "      <th>371344</th>\n",
              "      <td>A24KQ9RVU81L87</td>\n",
              "      <td>12 15, 2016</td>\n",
              "      <td>B01HJEGTYK</td>\n",
              "      <td>No return instructions/phone # in packaging.  ...</td>\n",
              "      <td>2</td>\n",
              "      <td>True</td>\n",
              "    </tr>\n",
              "  </tbody>\n",
              "</table>\n",
              "<p>322098 rows × 6 columns</p>\n",
              "</div>\n",
              "      <button class=\"colab-df-convert\" onclick=\"convertToInteractive('df-aa1b04ba-8c96-4aa8-a360-2ed4b7cf4d54')\"\n",
              "              title=\"Convert this dataframe to an interactive table.\"\n",
              "              style=\"display:none;\">\n",
              "\n",
              "  <svg xmlns=\"http://www.w3.org/2000/svg\" height=\"24px\"viewBox=\"0 0 24 24\"\n",
              "       width=\"24px\">\n",
              "    <path d=\"M0 0h24v24H0V0z\" fill=\"none\"/>\n",
              "    <path d=\"M18.56 5.44l.94 2.06.94-2.06 2.06-.94-2.06-.94-.94-2.06-.94 2.06-2.06.94zm-11 1L8.5 8.5l.94-2.06 2.06-.94-2.06-.94L8.5 2.5l-.94 2.06-2.06.94zm10 10l.94 2.06.94-2.06 2.06-.94-2.06-.94-.94-2.06-.94 2.06-2.06.94z\"/><path d=\"M17.41 7.96l-1.37-1.37c-.4-.4-.92-.59-1.43-.59-.52 0-1.04.2-1.43.59L10.3 9.45l-7.72 7.72c-.78.78-.78 2.05 0 2.83L4 21.41c.39.39.9.59 1.41.59.51 0 1.02-.2 1.41-.59l7.78-7.78 2.81-2.81c.8-.78.8-2.07 0-2.86zM5.41 20L4 18.59l7.72-7.72 1.47 1.35L5.41 20z\"/>\n",
              "  </svg>\n",
              "      </button>\n",
              "\n",
              "\n",
              "\n",
              "    <div id=\"df-a4a55ce2-3899-4a3f-8558-7ff1cc48c4de\">\n",
              "      <button class=\"colab-df-quickchart\" onclick=\"quickchart('df-a4a55ce2-3899-4a3f-8558-7ff1cc48c4de')\"\n",
              "              title=\"Suggest charts.\"\n",
              "              style=\"display:none;\">\n",
              "\n",
              "<svg xmlns=\"http://www.w3.org/2000/svg\" height=\"24px\"viewBox=\"0 0 24 24\"\n",
              "     width=\"24px\">\n",
              "    <g>\n",
              "        <path d=\"M19 3H5c-1.1 0-2 .9-2 2v14c0 1.1.9 2 2 2h14c1.1 0 2-.9 2-2V5c0-1.1-.9-2-2-2zM9 17H7v-7h2v7zm4 0h-2V7h2v10zm4 0h-2v-4h2v4z\"/>\n",
              "    </g>\n",
              "</svg>\n",
              "      </button>\n",
              "    </div>\n",
              "\n",
              "<style>\n",
              "  .colab-df-quickchart {\n",
              "    background-color: #E8F0FE;\n",
              "    border: none;\n",
              "    border-radius: 50%;\n",
              "    cursor: pointer;\n",
              "    display: none;\n",
              "    fill: #1967D2;\n",
              "    height: 32px;\n",
              "    padding: 0 0 0 0;\n",
              "    width: 32px;\n",
              "  }\n",
              "\n",
              "  .colab-df-quickchart:hover {\n",
              "    background-color: #E2EBFA;\n",
              "    box-shadow: 0px 1px 2px rgba(60, 64, 67, 0.3), 0px 1px 3px 1px rgba(60, 64, 67, 0.15);\n",
              "    fill: #174EA6;\n",
              "  }\n",
              "\n",
              "  [theme=dark] .colab-df-quickchart {\n",
              "    background-color: #3B4455;\n",
              "    fill: #D2E3FC;\n",
              "  }\n",
              "\n",
              "  [theme=dark] .colab-df-quickchart:hover {\n",
              "    background-color: #434B5C;\n",
              "    box-shadow: 0px 1px 3px 1px rgba(0, 0, 0, 0.15);\n",
              "    filter: drop-shadow(0px 1px 2px rgba(0, 0, 0, 0.3));\n",
              "    fill: #FFFFFF;\n",
              "  }\n",
              "</style>\n",
              "\n",
              "    <script>\n",
              "      async function quickchart(key) {\n",
              "        const containerElement = document.querySelector('#' + key);\n",
              "        const charts = await google.colab.kernel.invokeFunction(\n",
              "            'suggestCharts', [key], {});\n",
              "      }\n",
              "    </script>\n",
              "\n",
              "      <script>\n",
              "\n",
              "function displayQuickchartButton(domScope) {\n",
              "  let quickchartButtonEl =\n",
              "    domScope.querySelector('#df-a4a55ce2-3899-4a3f-8558-7ff1cc48c4de button.colab-df-quickchart');\n",
              "  quickchartButtonEl.style.display =\n",
              "    google.colab.kernel.accessAllowed ? 'block' : 'none';\n",
              "}\n",
              "\n",
              "        displayQuickchartButton(document);\n",
              "      </script>\n",
              "      <style>\n",
              "    .colab-df-container {\n",
              "      display:flex;\n",
              "      flex-wrap:wrap;\n",
              "      gap: 12px;\n",
              "    }\n",
              "\n",
              "    .colab-df-convert {\n",
              "      background-color: #E8F0FE;\n",
              "      border: none;\n",
              "      border-radius: 50%;\n",
              "      cursor: pointer;\n",
              "      display: none;\n",
              "      fill: #1967D2;\n",
              "      height: 32px;\n",
              "      padding: 0 0 0 0;\n",
              "      width: 32px;\n",
              "    }\n",
              "\n",
              "    .colab-df-convert:hover {\n",
              "      background-color: #E2EBFA;\n",
              "      box-shadow: 0px 1px 2px rgba(60, 64, 67, 0.3), 0px 1px 3px 1px rgba(60, 64, 67, 0.15);\n",
              "      fill: #174EA6;\n",
              "    }\n",
              "\n",
              "    [theme=dark] .colab-df-convert {\n",
              "      background-color: #3B4455;\n",
              "      fill: #D2E3FC;\n",
              "    }\n",
              "\n",
              "    [theme=dark] .colab-df-convert:hover {\n",
              "      background-color: #434B5C;\n",
              "      box-shadow: 0px 1px 3px 1px rgba(0, 0, 0, 0.15);\n",
              "      filter: drop-shadow(0px 1px 2px rgba(0, 0, 0, 0.3));\n",
              "      fill: #FFFFFF;\n",
              "    }\n",
              "  </style>\n",
              "\n",
              "      <script>\n",
              "        const buttonEl =\n",
              "          document.querySelector('#df-aa1b04ba-8c96-4aa8-a360-2ed4b7cf4d54 button.colab-df-convert');\n",
              "        buttonEl.style.display =\n",
              "          google.colab.kernel.accessAllowed ? 'block' : 'none';\n",
              "\n",
              "        async function convertToInteractive(key) {\n",
              "          const element = document.querySelector('#df-aa1b04ba-8c96-4aa8-a360-2ed4b7cf4d54');\n",
              "          const dataTable =\n",
              "            await google.colab.kernel.invokeFunction('convertToInteractive',\n",
              "                                                     [key], {});\n",
              "          if (!dataTable) return;\n",
              "\n",
              "          const docLinkHtml = 'Like what you see? Visit the ' +\n",
              "            '<a target=\"_blank\" href=https://colab.research.google.com/notebooks/data_table.ipynb>data table notebook</a>'\n",
              "            + ' to learn more about interactive tables.';\n",
              "          element.innerHTML = '';\n",
              "          dataTable['output_type'] = 'display_data';\n",
              "          await google.colab.output.renderOutput(dataTable, element);\n",
              "          const docLink = document.createElement('div');\n",
              "          docLink.innerHTML = docLinkHtml;\n",
              "          element.appendChild(docLink);\n",
              "        }\n",
              "      </script>\n",
              "    </div>\n",
              "  </div>\n"
            ]
          },
          "metadata": {},
          "execution_count": 13
        }
      ]
    },
    {
      "cell_type": "markdown",
      "source": [
        "## Step 3. Structure & Transform (Part II)\n",
        "\n",
        "Given the data frame `\"df_review_prep\"` we created, please further transform the data by performing the following:\n",
        "\n",
        "1. Create binary indicators (aka flag variables or dummy variables)\n",
        "\n",
        "- Create a flag variable \"good_flag\" if the `reviewText` mentions the word \"good\", regardless of case, set the flag to 1 else default it to 0\n",
        "> There should be around 43831 references to “good”.\n",
        "\n",
        "- Create a flag variable \"great_flag\" if the `reviewText` mentions the word \"great\", regardless of case, set the flag to 1 else default it to 0\n",
        "> There should be around 62080 references to “great”.\n",
        "\n",
        "- Create a flag variable \"bad_flag\", if the `reviewText` mentions the word \"bad\", regardless of case, set the flag to 1 else default it to 0\n",
        "> There should be around 6710 references to “bad”.\n",
        "\n",
        "> One approach to create flag variables (there are many):\n",
        "```python\n",
        "df['good_flag'] = 0\n",
        "df['good_flag'][df['text'].str.contains('good', case=False)] = 1\n",
        "```\n",
        "\n",
        "2. Create another variable \"review_len\" which is the number of characters each review includes\n",
        "> Hint:\n",
        "```python\n",
        "df['text_len'] = df['text'].str.len()\n",
        "```\n",
        "\n",
        "3. List the first 5 records of `\"df_review_prep\"` to make sure your code works"
      ],
      "metadata": {
        "id": "ZRM78Pn8B8yb"
      }
    },
    {
      "cell_type": "code",
      "source": [
        "# 1. Create binary indicators (aka flag variables or dummy variables)\n",
        "# Create a flag variable \"good_flag\" if the reviewText mentions the word \"good\", regardless of case, set the flag to 1 else default it to 0\n",
        "# There should be around 43831 references to “good”.\n",
        "df_review_prep['good_flag'] = 0 # Creating a dummy variable called \"good flag\"\n",
        "df_review_prep['good_flag'][df_review_prep['reviewText'].str.contains('good', case=False)] = 1 #Under \"good_flag\", we are assigning the value one rows under reviewText that contain the string \"good\" and it is not case sensitive\n",
        "df_review_prep['good_flag'].sum() # Output: 43,831 observations under reviewText that have the word bad\n",
        "\n",
        "# Also using (df_review_prep['good_flag'].value_counts()) will tell us how many of the observations of \"good flag\" are either 0 or 1."
      ],
      "metadata": {
        "id": "VKAOqJFPRSQk",
        "colab": {
          "base_uri": "https://localhost:8080/"
        },
        "outputId": "d4a7a5d9-d9cc-47fb-f7b1-7b665baf08d1"
      },
      "execution_count": 14,
      "outputs": [
        {
          "output_type": "execute_result",
          "data": {
            "text/plain": [
              "43831"
            ]
          },
          "metadata": {},
          "execution_count": 14
        }
      ]
    },
    {
      "cell_type": "code",
      "source": [
        "# 1. Continued\n",
        "# Create a flag variable \"great_flag\" if the reviewText mentions the word \"great\", regardless of case, set the flag to 1 else default it to 0\n",
        "# There should be around 62080 references to “great”.\n",
        "df_review_prep['great_flag'] = 0\n",
        "df_review_prep['great_flag'][df_review_prep['reviewText'].str.contains('great', case=False)] = 1\n",
        "df_review_prep['great_flag'].sum() # Output: 62,080 observations under reviewText that have the word great"
      ],
      "metadata": {
        "id": "R8XBET93Sk45",
        "colab": {
          "base_uri": "https://localhost:8080/"
        },
        "outputId": "3d82b7bb-6690-4732-e782-aadcf0ec57e9"
      },
      "execution_count": 15,
      "outputs": [
        {
          "output_type": "execute_result",
          "data": {
            "text/plain": [
              "62080"
            ]
          },
          "metadata": {},
          "execution_count": 15
        }
      ]
    },
    {
      "cell_type": "code",
      "source": [
        "#1. Continued\n",
        "# Create a flag variable \"bad_flag\", if the reviewText mentions the word \"bad\", regardless of case, set the flag to 1 else default it to 0\n",
        "# There should be around 6710 references to “bad”.\n",
        "df_review_prep['bad_flag'] = 0\n",
        "df_review_prep['bad_flag'][df_review_prep['reviewText'].str.contains('bad', case=False)] = 1\n",
        "df_review_prep['bad_flag'].sum() # Output: 6,710 observations under reviewText that have the word bad"
      ],
      "metadata": {
        "id": "d-xQSBtZSpxH",
        "colab": {
          "base_uri": "https://localhost:8080/"
        },
        "outputId": "447ad200-37b7-489b-9bd6-0f1560757b8b"
      },
      "execution_count": 16,
      "outputs": [
        {
          "output_type": "execute_result",
          "data": {
            "text/plain": [
              "6710"
            ]
          },
          "metadata": {},
          "execution_count": 16
        }
      ]
    },
    {
      "cell_type": "code",
      "source": [
        "#2. Create another variable \"review_len\" which is the number of characters each review includes\n",
        "# Hint: df['text_len'] = df['text'].str.len()\n",
        "df_review_prep['text_len'] = df_review_prep['reviewText'].str.len()\n",
        "\n",
        "# We created a variable and assigned it a condition under the column \"reviewText\" and we are curious about the length of the string"
      ],
      "metadata": {
        "id": "ak5HNS_7yqoQ"
      },
      "execution_count": 17,
      "outputs": []
    },
    {
      "cell_type": "code",
      "source": [
        "# 3. List the first 5 records of df_review_prep\n",
        "# We do this by using .head()\n",
        "df_review_prep.head()"
      ],
      "metadata": {
        "id": "aST65vH54S5h",
        "colab": {
          "base_uri": "https://localhost:8080/",
          "height": 206
        },
        "outputId": "c5dc4f83-f1c2-40c0-d796-3cb25149046d"
      },
      "execution_count": 18,
      "outputs": [
        {
          "output_type": "execute_result",
          "data": {
            "text/plain": [
              "       reviewerID   reviewTime      itemID  \\\n",
              "0  A1V6B6TNIC10QE  02 19, 2015  0143026860   \n",
              "1  A2F5GHSXFQ0W6J  12 18, 2014  0143026860   \n",
              "2  A1572GUYS7DGSR  08 10, 2014  0143026860   \n",
              "3   A1PSGLFK1NSVO  03 11, 2013  0143026860   \n",
              "4   A6IKXKZMTKGSC  12 25, 2011  0143026860   \n",
              "\n",
              "                                          reviewText  overallRating  verified  \\\n",
              "0                                              great              1      True   \n",
              "1  My  husband wanted to reading about the Negro ...              4      True   \n",
              "2  This book was very informative, covering all a...              4      True   \n",
              "3  I am already a baseball fan and knew a bit abo...              5      True   \n",
              "4  This was a good story of the Black leagues. I ...              5      True   \n",
              "\n",
              "   good_flag  great_flag  bad_flag  text_len  \n",
              "0          0           1         0         5  \n",
              "1          0           1         0       170  \n",
              "2          0           0         0        61  \n",
              "3          0           0         0       111  \n",
              "4          1           0         0       366  "
            ],
            "text/html": [
              "\n",
              "\n",
              "  <div id=\"df-5611743c-532b-4893-9445-c683a80d3795\">\n",
              "    <div class=\"colab-df-container\">\n",
              "      <div>\n",
              "<style scoped>\n",
              "    .dataframe tbody tr th:only-of-type {\n",
              "        vertical-align: middle;\n",
              "    }\n",
              "\n",
              "    .dataframe tbody tr th {\n",
              "        vertical-align: top;\n",
              "    }\n",
              "\n",
              "    .dataframe thead th {\n",
              "        text-align: right;\n",
              "    }\n",
              "</style>\n",
              "<table border=\"1\" class=\"dataframe\">\n",
              "  <thead>\n",
              "    <tr style=\"text-align: right;\">\n",
              "      <th></th>\n",
              "      <th>reviewerID</th>\n",
              "      <th>reviewTime</th>\n",
              "      <th>itemID</th>\n",
              "      <th>reviewText</th>\n",
              "      <th>overallRating</th>\n",
              "      <th>verified</th>\n",
              "      <th>good_flag</th>\n",
              "      <th>great_flag</th>\n",
              "      <th>bad_flag</th>\n",
              "      <th>text_len</th>\n",
              "    </tr>\n",
              "  </thead>\n",
              "  <tbody>\n",
              "    <tr>\n",
              "      <th>0</th>\n",
              "      <td>A1V6B6TNIC10QE</td>\n",
              "      <td>02 19, 2015</td>\n",
              "      <td>0143026860</td>\n",
              "      <td>great</td>\n",
              "      <td>1</td>\n",
              "      <td>True</td>\n",
              "      <td>0</td>\n",
              "      <td>1</td>\n",
              "      <td>0</td>\n",
              "      <td>5</td>\n",
              "    </tr>\n",
              "    <tr>\n",
              "      <th>1</th>\n",
              "      <td>A2F5GHSXFQ0W6J</td>\n",
              "      <td>12 18, 2014</td>\n",
              "      <td>0143026860</td>\n",
              "      <td>My  husband wanted to reading about the Negro ...</td>\n",
              "      <td>4</td>\n",
              "      <td>True</td>\n",
              "      <td>0</td>\n",
              "      <td>1</td>\n",
              "      <td>0</td>\n",
              "      <td>170</td>\n",
              "    </tr>\n",
              "    <tr>\n",
              "      <th>2</th>\n",
              "      <td>A1572GUYS7DGSR</td>\n",
              "      <td>08 10, 2014</td>\n",
              "      <td>0143026860</td>\n",
              "      <td>This book was very informative, covering all a...</td>\n",
              "      <td>4</td>\n",
              "      <td>True</td>\n",
              "      <td>0</td>\n",
              "      <td>0</td>\n",
              "      <td>0</td>\n",
              "      <td>61</td>\n",
              "    </tr>\n",
              "    <tr>\n",
              "      <th>3</th>\n",
              "      <td>A1PSGLFK1NSVO</td>\n",
              "      <td>03 11, 2013</td>\n",
              "      <td>0143026860</td>\n",
              "      <td>I am already a baseball fan and knew a bit abo...</td>\n",
              "      <td>5</td>\n",
              "      <td>True</td>\n",
              "      <td>0</td>\n",
              "      <td>0</td>\n",
              "      <td>0</td>\n",
              "      <td>111</td>\n",
              "    </tr>\n",
              "    <tr>\n",
              "      <th>4</th>\n",
              "      <td>A6IKXKZMTKGSC</td>\n",
              "      <td>12 25, 2011</td>\n",
              "      <td>0143026860</td>\n",
              "      <td>This was a good story of the Black leagues. I ...</td>\n",
              "      <td>5</td>\n",
              "      <td>True</td>\n",
              "      <td>1</td>\n",
              "      <td>0</td>\n",
              "      <td>0</td>\n",
              "      <td>366</td>\n",
              "    </tr>\n",
              "  </tbody>\n",
              "</table>\n",
              "</div>\n",
              "      <button class=\"colab-df-convert\" onclick=\"convertToInteractive('df-5611743c-532b-4893-9445-c683a80d3795')\"\n",
              "              title=\"Convert this dataframe to an interactive table.\"\n",
              "              style=\"display:none;\">\n",
              "\n",
              "  <svg xmlns=\"http://www.w3.org/2000/svg\" height=\"24px\"viewBox=\"0 0 24 24\"\n",
              "       width=\"24px\">\n",
              "    <path d=\"M0 0h24v24H0V0z\" fill=\"none\"/>\n",
              "    <path d=\"M18.56 5.44l.94 2.06.94-2.06 2.06-.94-2.06-.94-.94-2.06-.94 2.06-2.06.94zm-11 1L8.5 8.5l.94-2.06 2.06-.94-2.06-.94L8.5 2.5l-.94 2.06-2.06.94zm10 10l.94 2.06.94-2.06 2.06-.94-2.06-.94-.94-2.06-.94 2.06-2.06.94z\"/><path d=\"M17.41 7.96l-1.37-1.37c-.4-.4-.92-.59-1.43-.59-.52 0-1.04.2-1.43.59L10.3 9.45l-7.72 7.72c-.78.78-.78 2.05 0 2.83L4 21.41c.39.39.9.59 1.41.59.51 0 1.02-.2 1.41-.59l7.78-7.78 2.81-2.81c.8-.78.8-2.07 0-2.86zM5.41 20L4 18.59l7.72-7.72 1.47 1.35L5.41 20z\"/>\n",
              "  </svg>\n",
              "      </button>\n",
              "\n",
              "\n",
              "\n",
              "    <div id=\"df-9484cc78-86ff-455d-9621-104c07f5d9a3\">\n",
              "      <button class=\"colab-df-quickchart\" onclick=\"quickchart('df-9484cc78-86ff-455d-9621-104c07f5d9a3')\"\n",
              "              title=\"Suggest charts.\"\n",
              "              style=\"display:none;\">\n",
              "\n",
              "<svg xmlns=\"http://www.w3.org/2000/svg\" height=\"24px\"viewBox=\"0 0 24 24\"\n",
              "     width=\"24px\">\n",
              "    <g>\n",
              "        <path d=\"M19 3H5c-1.1 0-2 .9-2 2v14c0 1.1.9 2 2 2h14c1.1 0 2-.9 2-2V5c0-1.1-.9-2-2-2zM9 17H7v-7h2v7zm4 0h-2V7h2v10zm4 0h-2v-4h2v4z\"/>\n",
              "    </g>\n",
              "</svg>\n",
              "      </button>\n",
              "    </div>\n",
              "\n",
              "<style>\n",
              "  .colab-df-quickchart {\n",
              "    background-color: #E8F0FE;\n",
              "    border: none;\n",
              "    border-radius: 50%;\n",
              "    cursor: pointer;\n",
              "    display: none;\n",
              "    fill: #1967D2;\n",
              "    height: 32px;\n",
              "    padding: 0 0 0 0;\n",
              "    width: 32px;\n",
              "  }\n",
              "\n",
              "  .colab-df-quickchart:hover {\n",
              "    background-color: #E2EBFA;\n",
              "    box-shadow: 0px 1px 2px rgba(60, 64, 67, 0.3), 0px 1px 3px 1px rgba(60, 64, 67, 0.15);\n",
              "    fill: #174EA6;\n",
              "  }\n",
              "\n",
              "  [theme=dark] .colab-df-quickchart {\n",
              "    background-color: #3B4455;\n",
              "    fill: #D2E3FC;\n",
              "  }\n",
              "\n",
              "  [theme=dark] .colab-df-quickchart:hover {\n",
              "    background-color: #434B5C;\n",
              "    box-shadow: 0px 1px 3px 1px rgba(0, 0, 0, 0.15);\n",
              "    filter: drop-shadow(0px 1px 2px rgba(0, 0, 0, 0.3));\n",
              "    fill: #FFFFFF;\n",
              "  }\n",
              "</style>\n",
              "\n",
              "    <script>\n",
              "      async function quickchart(key) {\n",
              "        const containerElement = document.querySelector('#' + key);\n",
              "        const charts = await google.colab.kernel.invokeFunction(\n",
              "            'suggestCharts', [key], {});\n",
              "      }\n",
              "    </script>\n",
              "\n",
              "      <script>\n",
              "\n",
              "function displayQuickchartButton(domScope) {\n",
              "  let quickchartButtonEl =\n",
              "    domScope.querySelector('#df-9484cc78-86ff-455d-9621-104c07f5d9a3 button.colab-df-quickchart');\n",
              "  quickchartButtonEl.style.display =\n",
              "    google.colab.kernel.accessAllowed ? 'block' : 'none';\n",
              "}\n",
              "\n",
              "        displayQuickchartButton(document);\n",
              "      </script>\n",
              "      <style>\n",
              "    .colab-df-container {\n",
              "      display:flex;\n",
              "      flex-wrap:wrap;\n",
              "      gap: 12px;\n",
              "    }\n",
              "\n",
              "    .colab-df-convert {\n",
              "      background-color: #E8F0FE;\n",
              "      border: none;\n",
              "      border-radius: 50%;\n",
              "      cursor: pointer;\n",
              "      display: none;\n",
              "      fill: #1967D2;\n",
              "      height: 32px;\n",
              "      padding: 0 0 0 0;\n",
              "      width: 32px;\n",
              "    }\n",
              "\n",
              "    .colab-df-convert:hover {\n",
              "      background-color: #E2EBFA;\n",
              "      box-shadow: 0px 1px 2px rgba(60, 64, 67, 0.3), 0px 1px 3px 1px rgba(60, 64, 67, 0.15);\n",
              "      fill: #174EA6;\n",
              "    }\n",
              "\n",
              "    [theme=dark] .colab-df-convert {\n",
              "      background-color: #3B4455;\n",
              "      fill: #D2E3FC;\n",
              "    }\n",
              "\n",
              "    [theme=dark] .colab-df-convert:hover {\n",
              "      background-color: #434B5C;\n",
              "      box-shadow: 0px 1px 3px 1px rgba(0, 0, 0, 0.15);\n",
              "      filter: drop-shadow(0px 1px 2px rgba(0, 0, 0, 0.3));\n",
              "      fill: #FFFFFF;\n",
              "    }\n",
              "  </style>\n",
              "\n",
              "      <script>\n",
              "        const buttonEl =\n",
              "          document.querySelector('#df-5611743c-532b-4893-9445-c683a80d3795 button.colab-df-convert');\n",
              "        buttonEl.style.display =\n",
              "          google.colab.kernel.accessAllowed ? 'block' : 'none';\n",
              "\n",
              "        async function convertToInteractive(key) {\n",
              "          const element = document.querySelector('#df-5611743c-532b-4893-9445-c683a80d3795');\n",
              "          const dataTable =\n",
              "            await google.colab.kernel.invokeFunction('convertToInteractive',\n",
              "                                                     [key], {});\n",
              "          if (!dataTable) return;\n",
              "\n",
              "          const docLinkHtml = 'Like what you see? Visit the ' +\n",
              "            '<a target=\"_blank\" href=https://colab.research.google.com/notebooks/data_table.ipynb>data table notebook</a>'\n",
              "            + ' to learn more about interactive tables.';\n",
              "          element.innerHTML = '';\n",
              "          dataTable['output_type'] = 'display_data';\n",
              "          await google.colab.output.renderOutput(dataTable, element);\n",
              "          const docLink = document.createElement('div');\n",
              "          docLink.innerHTML = docLinkHtml;\n",
              "          element.appendChild(docLink);\n",
              "        }\n",
              "      </script>\n",
              "    </div>\n",
              "  </div>\n"
            ]
          },
          "metadata": {},
          "execution_count": 18
        }
      ]
    },
    {
      "cell_type": "markdown",
      "source": [
        "## Step 4. Frequency Analysis & Graphs\n",
        "\n",
        "1. Create 4 basic bar charts using `sns.countplot()` to explore `overallRating` -  set the argument `hue` (i.e., color setting) by indicated fields respectively: `None`, `good_flag`, `great_flag`, `bad_flag`.\n",
        "\n",
        "> Hint: Expected charts can be created using code like this\n",
        "```python\n",
        "plt.figure(figsize=(6, 4))\n",
        "factor = 'your_flag_variable'\n",
        "sns.countplot(data=df, x=\"your_main_variable\", hue=factor).set_title('your title')\n",
        "plt.xlabel('your x label')\n",
        "plt.ylabel('your y label')\n",
        "plt.show()\n",
        "```\n",
        "\n",
        "\n",
        "2. To further explore `overallRating`, let's create stacked bar charts that present data as percentages. This method is particularly effective for comparing the proportion each subgroup contributes to the total.\n",
        "\n",
        "   In a 100% stacked bar chart, each bar will represent a unique rating value (1-5 stars) under `overallRating`. The segments of each bar will illustrate the percentage of reviews at that specific rating that have been flagged as either 'good', 'great', or 'bad'.\n",
        "\n",
        "   Let's create **three** 100% stacked bar charts - each one visualizes the relationship between `overallRating` and one of the binary flag variables respectively (`good_flag`, `great_flag`, `bad_flag`).\n",
        "\n",
        "   **Describe** the insights or patterns you find.\n",
        "\n",
        "> Hint: Expected charts can be created using code like this\n",
        "```python\n",
        "main_category = 'your_main_variable'\n",
        "binary_category = 'your_flag_variable'\n",
        "df_grouped = df.groupby(main_category)[binary_category].value_counts(normalize=True).unstack()\n",
        "df_grouped.plot(kind='bar', stacked=True, figsize=(6,3))\n",
        "plt.ylabel('Percentage')\n",
        "plt.show()\n",
        "```"
      ],
      "metadata": {
        "id": "BOjQ1eTC4Oc2"
      }
    },
    {
      "cell_type": "code",
      "source": [
        "# None\n",
        "plt.figure(figsize=(6, 4))\n",
        "factor = 'None'\n",
        "sns.countplot(data=df_review_prep, x=\"overallRating\", hue=None)\n",
        "plt.title(f'Number of Reviews by Flag Factor: {factor} ')\n",
        "plt.xlabel('Overall Rating')\n",
        "plt.ylabel('Number of Reviews')\n",
        "plt.show()"
      ],
      "metadata": {
        "id": "aTTXid4GNcoM",
        "colab": {
          "base_uri": "https://localhost:8080/",
          "height": 410
        },
        "outputId": "5f2463fd-dad4-48ce-be2c-a9872923e47b"
      },
      "execution_count": 19,
      "outputs": [
        {
          "output_type": "display_data",
          "data": {
            "text/plain": [
              "<Figure size 600x400 with 1 Axes>"
            ],
            "image/png": "[encoded data removed]"
          },
          "metadata": {}
        }
      ]
    },
    {
      "cell_type": "code",
      "source": [
        "# Good\n",
        "plt.figure(figsize=(6, 4))\n",
        "factor = 'Good Flag'\n",
        "sns.countplot(data=df_review_prep, x=\"overallRating\", hue='good_flag') # How do I get True and False instead of 0 and 1\n",
        "plt.title(f'Number of Reviews by Flag factor: {factor}')\n",
        "plt.xlabel('Overall Rating')\n",
        "plt.ylabel('Number of Reviews')\n",
        "plt.show()\n",
        "\n",
        "# We see that a trend that a lot of ratings don't contain the word good in them. At the five stars rating, a lot of those reviews do not mention the word good so it must be the case that they may have said something better than the word good."
      ],
      "metadata": {
        "id": "92jwFRZVK9pw",
        "colab": {
          "base_uri": "https://localhost:8080/",
          "height": 410
        },
        "outputId": "44961350-05a9-41ed-cf99-53b531f3a358"
      },
      "execution_count": 20,
      "outputs": [
        {
          "output_type": "display_data",
          "data": {
            "text/plain": [
              "<Figure size 600x400 with 1 Axes>"
            ],
            "image/png": "[encoded data removed]"
          },
          "metadata": {}
        }
      ]
    },
    {
      "cell_type": "code",
      "source": [
        "# Great\n",
        "plt.figure(figsize=(6, 4))\n",
        "factor = 'Great Flag'\n",
        "sns.countplot(data=df_review_prep, x=\"overallRating\", hue='great_flag')\n",
        "plt.title(f'Number of Reviews by Flag Factor: {factor}')\n",
        "plt.xlabel('Overall Rating')\n",
        "plt.ylabel('Number of Reviews')\n",
        "plt.show()"
      ],
      "metadata": {
        "id": "1-uVRMLoNcrV",
        "colab": {
          "base_uri": "https://localhost:8080/",
          "height": 410
        },
        "outputId": "42d612c9-f84b-4443-ecaa-75053812dcdb"
      },
      "execution_count": 21,
      "outputs": [
        {
          "output_type": "display_data",
          "data": {
            "text/plain": [
              "<Figure size 600x400 with 1 Axes>"
            ],
            "image/png": "[encoded data removed]"
          },
          "metadata": {}
        }
      ]
    },
    {
      "cell_type": "code",
      "source": [
        "# Bad\n",
        "plt.figure(figsize=(6, 4))\n",
        "factor = 'Bad Flag'\n",
        "sns.countplot(data=df_review_prep, x=\"overallRating\", hue='bad_flag')\n",
        "plt.title(f'Number of Reviews by Flag Factor: {factor}')\n",
        "plt.xlabel('Overall Rating')\n",
        "plt.ylabel('Number of Reviews')\n",
        "plt.show()"
      ],
      "metadata": {
        "id": "IE7Owm08bqYz",
        "colab": {
          "base_uri": "https://localhost:8080/",
          "height": 410
        },
        "outputId": "7ba4b795-846e-4f33-85fb-57d9aaf8fe17"
      },
      "execution_count": 22,
      "outputs": [
        {
          "output_type": "display_data",
          "data": {
            "text/plain": [
              "<Figure size 600x400 with 1 Axes>"
            ],
            "image/png": "[encoded data removed]"
          },
          "metadata": {}
        }
      ]
    },
    {
      "cell_type": "code",
      "source": [
        "# Good\n",
        "main_category = 'overallRating'\n",
        "binary_category = 'good_flag'\n",
        "factor = 'Good Flag'\n",
        "df_grouped = df_review_prep.groupby(main_category)[binary_category].value_counts(normalize=True).unstack()\n",
        "df_grouped.plot(kind='bar', stacked=True, figsize=(6,3))\n",
        "plt.title(f'Number of Reviews by Flag factor: {factor}')\n",
        "plt.xticks(rotation=0)\n",
        "plt.ylabel('Percentage')\n",
        "plt.show()"
      ],
      "metadata": {
        "id": "FIji3jVObBpQ",
        "colab": {
          "base_uri": "https://localhost:8080/",
          "height": 333
        },
        "outputId": "0e85b6a6-8ceb-4e5d-9692-b2773d373037"
      },
      "execution_count": 23,
      "outputs": [
        {
          "output_type": "display_data",
          "data": {
            "text/plain": [
              "<Figure size 600x300 with 1 Axes>"
            ],
            "image/png": "[encoded data removed]"
          },
          "metadata": {}
        }
      ]
    },
    {
      "cell_type": "code",
      "source": [
        "# Great\n",
        "main_category = 'overallRating'\n",
        "binary_category = 'great_flag'\n",
        "factor = \"Great Flag\"\n",
        "df_grouped = df_review_prep.groupby(main_category)[binary_category].value_counts(normalize=True).unstack()\n",
        "df_grouped.plot(kind='bar', stacked=True, figsize=(6,3))\n",
        "plt.title(f'Number of Reviews by Flag factor: {factor}')\n",
        "plt.xticks(rotation=0)\n",
        "plt.ylabel('Percentage')\n",
        "plt.show()\n"
      ],
      "metadata": {
        "colab": {
          "base_uri": "https://localhost:8080/",
          "height": 333
        },
        "id": "phg3xHYpyS8G",
        "outputId": "acb2a483-978c-477a-f3ec-08183041e405"
      },
      "execution_count": 24,
      "outputs": [
        {
          "output_type": "display_data",
          "data": {
            "text/plain": [
              "<Figure size 600x300 with 1 Axes>"
            ],
            "image/png": "[encoded data removed]"
          },
          "metadata": {}
        }
      ]
    },
    {
      "cell_type": "code",
      "source": [
        "# Bad\n",
        "main_category = 'overallRating'\n",
        "binary_category = 'bad_flag'\n",
        "factor = \"Bad Flag\"\n",
        "df_grouped = df_review_prep.groupby(main_category)[binary_category].value_counts(normalize=True).unstack()\n",
        "df_grouped.plot(kind='bar', stacked=True, figsize=(6,3))\n",
        "plt.title(f'Number of Reviews by Flag factor: {factor}')\n",
        "plt.xticks(rotation=0)\n",
        "plt.ylabel('Percentage')\n",
        "plt.show()"
      ],
      "metadata": {
        "id": "0fh-qCvLWHzH",
        "colab": {
          "base_uri": "https://localhost:8080/",
          "height": 333
        },
        "outputId": "afcdb7fc-e5bd-453e-c7a5-aa4f74bc73ac"
      },
      "execution_count": 25,
      "outputs": [
        {
          "output_type": "display_data",
          "data": {
            "text/plain": [
              "<Figure size 600x300 with 1 Axes>"
            ],
            "image/png": "[encoded data removed]"
          },
          "metadata": {}
        }
      ]
    },
    {
      "cell_type": "markdown",
      "source": [
        "## Step 5. Does Time Matter?\n",
        "\n",
        "1. Clean datetimes: Change the data type of `reviewTime` to a standard type `datetime`\n",
        "> Hint: Consider using `pd.to_datetime()`\n",
        "\n",
        "2. Create 4 new variables to store the year, month, day, and day of week by applying transformation to `reviewTime`\n",
        "> Hint:\n",
        "```python\n",
        "df['year'] = df['date_variable'].dt.year\n",
        "df['month'] = df['date_variable'].dt.month\n",
        "df['day'] = df['date_variable'].dt.day\n",
        "df['day_of_week'] = df['date_variable'].dt.weekday # where 0 represents Monday\n",
        "```\n",
        "\n",
        "3. Group by `day_of_week`, then Report the following summaries in one single data frame named `df_summary`:\n",
        "  - count the total number of reviews\n",
        "  - calculate the mean of `overallRating`\n",
        "  - calculate the mean of `review_len`\n",
        "\n",
        "\n",
        "4. Create three Bar charts using `sns.barplot()` to answer the following questions:\n",
        "\n",
        "- What is the most/least reviewed year?\n",
        "\n",
        "- What year are you most likely to get the highest/lowest mean review length?\n",
        "\n",
        "- For the data in July 2018, what day of week are you most likely to get the highest/lowest mean overall rating?"
      ],
      "metadata": {
        "id": "0TDM0yu44RRM"
      }
    },
    {
      "cell_type": "code",
      "source": [
        "# 1. Clean datetimes: Change the data type of reviewTime to a standard type datetime\n",
        "df_review_prep['reviewTime'] = pd.to_datetime(df_review_prep['reviewTime'])"
      ],
      "metadata": {
        "id": "du40u3kWEh0_"
      },
      "execution_count": 26,
      "outputs": []
    },
    {
      "cell_type": "code",
      "source": [
        "# 2. Create 4 new variables to store the year, month, day and day of week by applying transformation to reviewTime\n",
        "df_review_prep['month'] = df_review_prep['reviewTime'].dt.month\n",
        "df_review_prep['year'] = df_review_prep['reviewTime'].dt.year\n",
        "df_review_prep['day'] = df_review_prep['reviewTime'].dt.day\n",
        "df_review_prep['day_of_week'] = df_review_prep['reviewTime'].dt.weekday #where 0 represents Monday"
      ],
      "metadata": {
        "id": "flUzWFuW5JSc"
      },
      "execution_count": 27,
      "outputs": []
    },
    {
      "cell_type": "code",
      "source": [
        "# 2. We will double check the variables we created and see if they are in our dataset\n",
        "df_review_prep.columns"
      ],
      "metadata": {
        "colab": {
          "base_uri": "https://localhost:8080/"
        },
        "id": "e4-4-YfodStc",
        "outputId": "87c61821-7c05-4932-e296-6b95a1f38631"
      },
      "execution_count": 28,
      "outputs": [
        {
          "output_type": "execute_result",
          "data": {
            "text/plain": [
              "Index(['reviewerID', 'reviewTime', 'itemID', 'reviewText', 'overallRating',\n",
              "       'verified', 'good_flag', 'great_flag', 'bad_flag', 'text_len', 'month',\n",
              "       'year', 'day', 'day_of_week'],\n",
              "      dtype='object')"
            ]
          },
          "metadata": {},
          "execution_count": 28
        }
      ]
    },
    {
      "cell_type": "code",
      "source": [
        "# 3. Group by day_of_week, then Report the following summaries in one single data frame named df_summary\n",
        "# Count the total number of reviews\n",
        "\n",
        "df_summary = df_review_prep.groupby('day_of_week')['reviewText'].agg('count')\n",
        "df_summary"
      ],
      "metadata": {
        "colab": {
          "base_uri": "https://localhost:8080/"
        },
        "id": "Ik4dJhh78fLX",
        "outputId": "aca5fc4e-1ada-4eb3-c0f4-0c3835b26b25"
      },
      "execution_count": 29,
      "outputs": [
        {
          "output_type": "execute_result",
          "data": {
            "text/plain": [
              "day_of_week\n",
              "0    51281\n",
              "1    49809\n",
              "2    48141\n",
              "3    47575\n",
              "4    44023\n",
              "5    40234\n",
              "6    41035\n",
              "Name: reviewText, dtype: int64"
            ]
          },
          "metadata": {},
          "execution_count": 29
        }
      ]
    },
    {
      "cell_type": "code",
      "source": [
        "# 3. Calculate the mean of overallRating\n",
        "df_summary = df_review_prep.groupby('day_of_week')['overallRating'].agg('mean')\n",
        "df_summary"
      ],
      "metadata": {
        "colab": {
          "base_uri": "https://localhost:8080/"
        },
        "id": "Szh_g57ja1pC",
        "outputId": "fb695726-9156-4ff5-eba1-bc4dabf31baf"
      },
      "execution_count": 30,
      "outputs": [
        {
          "output_type": "execute_result",
          "data": {
            "text/plain": [
              "day_of_week\n",
              "0    4.109339\n",
              "1    4.113815\n",
              "2    4.103758\n",
              "3    4.124687\n",
              "4    4.117325\n",
              "5    4.105980\n",
              "6    4.123041\n",
              "Name: overallRating, dtype: float64"
            ]
          },
          "metadata": {},
          "execution_count": 30
        }
      ]
    },
    {
      "cell_type": "code",
      "source": [
        "# 3. Calculate the mean of review_len\n",
        "df_summary = df_review_prep.groupby('day_of_week')['text_len'].agg('mean')\n",
        "df_summary"
      ],
      "metadata": {
        "colab": {
          "base_uri": "https://localhost:8080/"
        },
        "id": "T0QW0APPazIC",
        "outputId": "bda28ad8-8189-4b8f-e0b2-9b3279ff4ce2"
      },
      "execution_count": 31,
      "outputs": [
        {
          "output_type": "execute_result",
          "data": {
            "text/plain": [
              "day_of_week\n",
              "0    172.393713\n",
              "1    169.413881\n",
              "2    173.003240\n",
              "3    172.330257\n",
              "4    174.571042\n",
              "5    179.238157\n",
              "6    175.262873\n",
              "Name: text_len, dtype: float64"
            ]
          },
          "metadata": {},
          "execution_count": 31
        }
      ]
    },
    {
      "cell_type": "code",
      "source": [
        "# 3. Now if we put it all together and want to make this fancier in terms of displaying the results\n",
        "# We will groupby and aggregate the results all in one line of code, then use reset.index.\n",
        "# Then we will use df to display our results\n",
        "df_summary = df_review_prep.groupby('day_of_week').agg({'reviewText': ['count'], 'overallRating': ['mean'], 'text_len': 'mean'}).reset_index()\n",
        "df_summary\n",
        "\n",
        "# The first day of the week is Sunday (0) and ends at Saturday (6)"
      ],
      "metadata": {
        "colab": {
          "base_uri": "https://localhost:8080/",
          "height": 300
        },
        "id": "VYHUCrIyllHL",
        "outputId": "fe7404ed-7490-4688-fd83-9cc2e41d99eb"
      },
      "execution_count": 32,
      "outputs": [
        {
          "output_type": "execute_result",
          "data": {
            "text/plain": [
              "  day_of_week reviewText overallRating    text_len\n",
              "                   count          mean        mean\n",
              "0           0      51281      4.109339  172.393713\n",
              "1           1      49809      4.113815  169.413881\n",
              "2           2      48141      4.103758  173.003240\n",
              "3           3      47575      4.124687  172.330257\n",
              "4           4      44023      4.117325  174.571042\n",
              "5           5      40234      4.105980  179.238157\n",
              "6           6      41035      4.123041  175.262873"
            ],
            "text/html": [
              "\n",
              "\n",
              "  <div id=\"df-e9e808f8-89a1-4204-9477-d76d89cd0486\">\n",
              "    <div class=\"colab-df-container\">\n",
              "      <div>\n",
              "<style scoped>\n",
              "    .dataframe tbody tr th:only-of-type {\n",
              "        vertical-align: middle;\n",
              "    }\n",
              "\n",
              "    .dataframe tbody tr th {\n",
              "        vertical-align: top;\n",
              "    }\n",
              "\n",
              "    .dataframe thead tr th {\n",
              "        text-align: left;\n",
              "    }\n",
              "</style>\n",
              "<table border=\"1\" class=\"dataframe\">\n",
              "  <thead>\n",
              "    <tr>\n",
              "      <th></th>\n",
              "      <th>day_of_week</th>\n",
              "      <th>reviewText</th>\n",
              "      <th>overallRating</th>\n",
              "      <th>text_len</th>\n",
              "    </tr>\n",
              "    <tr>\n",
              "      <th></th>\n",
              "      <th></th>\n",
              "      <th>count</th>\n",
              "      <th>mean</th>\n",
              "      <th>mean</th>\n",
              "    </tr>\n",
              "  </thead>\n",
              "  <tbody>\n",
              "    <tr>\n",
              "      <th>0</th>\n",
              "      <td>0</td>\n",
              "      <td>51281</td>\n",
              "      <td>4.109339</td>\n",
              "      <td>172.393713</td>\n",
              "    </tr>\n",
              "    <tr>\n",
              "      <th>1</th>\n",
              "      <td>1</td>\n",
              "      <td>49809</td>\n",
              "      <td>4.113815</td>\n",
              "      <td>169.413881</td>\n",
              "    </tr>\n",
              "    <tr>\n",
              "      <th>2</th>\n",
              "      <td>2</td>\n",
              "      <td>48141</td>\n",
              "      <td>4.103758</td>\n",
              "      <td>173.003240</td>\n",
              "    </tr>\n",
              "    <tr>\n",
              "      <th>3</th>\n",
              "      <td>3</td>\n",
              "      <td>47575</td>\n",
              "      <td>4.124687</td>\n",
              "      <td>172.330257</td>\n",
              "    </tr>\n",
              "    <tr>\n",
              "      <th>4</th>\n",
              "      <td>4</td>\n",
              "      <td>44023</td>\n",
              "      <td>4.117325</td>\n",
              "      <td>174.571042</td>\n",
              "    </tr>\n",
              "    <tr>\n",
              "      <th>5</th>\n",
              "      <td>5</td>\n",
              "      <td>40234</td>\n",
              "      <td>4.105980</td>\n",
              "      <td>179.238157</td>\n",
              "    </tr>\n",
              "    <tr>\n",
              "      <th>6</th>\n",
              "      <td>6</td>\n",
              "      <td>41035</td>\n",
              "      <td>4.123041</td>\n",
              "      <td>175.262873</td>\n",
              "    </tr>\n",
              "  </tbody>\n",
              "</table>\n",
              "</div>\n",
              "      <button class=\"colab-df-convert\" onclick=\"convertToInteractive('df-e9e808f8-89a1-4204-9477-d76d89cd0486')\"\n",
              "              title=\"Convert this dataframe to an interactive table.\"\n",
              "              style=\"display:none;\">\n",
              "\n",
              "  <svg xmlns=\"http://www.w3.org/2000/svg\" height=\"24px\"viewBox=\"0 0 24 24\"\n",
              "       width=\"24px\">\n",
              "    <path d=\"M0 0h24v24H0V0z\" fill=\"none\"/>\n",
              "    <path d=\"M18.56 5.44l.94 2.06.94-2.06 2.06-.94-2.06-.94-.94-2.06-.94 2.06-2.06.94zm-11 1L8.5 8.5l.94-2.06 2.06-.94-2.06-.94L8.5 2.5l-.94 2.06-2.06.94zm10 10l.94 2.06.94-2.06 2.06-.94-2.06-.94-.94-2.06-.94 2.06-2.06.94z\"/><path d=\"M17.41 7.96l-1.37-1.37c-.4-.4-.92-.59-1.43-.59-.52 0-1.04.2-1.43.59L10.3 9.45l-7.72 7.72c-.78.78-.78 2.05 0 2.83L4 21.41c.39.39.9.59 1.41.59.51 0 1.02-.2 1.41-.59l7.78-7.78 2.81-2.81c.8-.78.8-2.07 0-2.86zM5.41 20L4 18.59l7.72-7.72 1.47 1.35L5.41 20z\"/>\n",
              "  </svg>\n",
              "      </button>\n",
              "\n",
              "\n",
              "\n",
              "    <div id=\"df-83747876-182f-4cde-8ec1-d08ebbd14a6a\">\n",
              "      <button class=\"colab-df-quickchart\" onclick=\"quickchart('df-83747876-182f-4cde-8ec1-d08ebbd14a6a')\"\n",
              "              title=\"Suggest charts.\"\n",
              "              style=\"display:none;\">\n",
              "\n",
              "<svg xmlns=\"http://www.w3.org/2000/svg\" height=\"24px\"viewBox=\"0 0 24 24\"\n",
              "     width=\"24px\">\n",
              "    <g>\n",
              "        <path d=\"M19 3H5c-1.1 0-2 .9-2 2v14c0 1.1.9 2 2 2h14c1.1 0 2-.9 2-2V5c0-1.1-.9-2-2-2zM9 17H7v-7h2v7zm4 0h-2V7h2v10zm4 0h-2v-4h2v4z\"/>\n",
              "    </g>\n",
              "</svg>\n",
              "      </button>\n",
              "    </div>\n",
              "\n",
              "<style>\n",
              "  .colab-df-quickchart {\n",
              "    background-color: #E8F0FE;\n",
              "    border: none;\n",
              "    border-radius: 50%;\n",
              "    cursor: pointer;\n",
              "    display: none;\n",
              "    fill: #1967D2;\n",
              "    height: 32px;\n",
              "    padding: 0 0 0 0;\n",
              "    width: 32px;\n",
              "  }\n",
              "\n",
              "  .colab-df-quickchart:hover {\n",
              "    background-color: #E2EBFA;\n",
              "    box-shadow: 0px 1px 2px rgba(60, 64, 67, 0.3), 0px 1px 3px 1px rgba(60, 64, 67, 0.15);\n",
              "    fill: #174EA6;\n",
              "  }\n",
              "\n",
              "  [theme=dark] .colab-df-quickchart {\n",
              "    background-color: #3B4455;\n",
              "    fill: #D2E3FC;\n",
              "  }\n",
              "\n",
              "  [theme=dark] .colab-df-quickchart:hover {\n",
              "    background-color: #434B5C;\n",
              "    box-shadow: 0px 1px 3px 1px rgba(0, 0, 0, 0.15);\n",
              "    filter: drop-shadow(0px 1px 2px rgba(0, 0, 0, 0.3));\n",
              "    fill: #FFFFFF;\n",
              "  }\n",
              "</style>\n",
              "\n",
              "    <script>\n",
              "      async function quickchart(key) {\n",
              "        const containerElement = document.querySelector('#' + key);\n",
              "        const charts = await google.colab.kernel.invokeFunction(\n",
              "            'suggestCharts', [key], {});\n",
              "      }\n",
              "    </script>\n",
              "\n",
              "      <script>\n",
              "\n",
              "function displayQuickchartButton(domScope) {\n",
              "  let quickchartButtonEl =\n",
              "    domScope.querySelector('#df-83747876-182f-4cde-8ec1-d08ebbd14a6a button.colab-df-quickchart');\n",
              "  quickchartButtonEl.style.display =\n",
              "    google.colab.kernel.accessAllowed ? 'block' : 'none';\n",
              "}\n",
              "\n",
              "        displayQuickchartButton(document);\n",
              "      </script>\n",
              "      <style>\n",
              "    .colab-df-container {\n",
              "      display:flex;\n",
              "      flex-wrap:wrap;\n",
              "      gap: 12px;\n",
              "    }\n",
              "\n",
              "    .colab-df-convert {\n",
              "      background-color: #E8F0FE;\n",
              "      border: none;\n",
              "      border-radius: 50%;\n",
              "      cursor: pointer;\n",
              "      display: none;\n",
              "      fill: #1967D2;\n",
              "      height: 32px;\n",
              "      padding: 0 0 0 0;\n",
              "      width: 32px;\n",
              "    }\n",
              "\n",
              "    .colab-df-convert:hover {\n",
              "      background-color: #E2EBFA;\n",
              "      box-shadow: 0px 1px 2px rgba(60, 64, 67, 0.3), 0px 1px 3px 1px rgba(60, 64, 67, 0.15);\n",
              "      fill: #174EA6;\n",
              "    }\n",
              "\n",
              "    [theme=dark] .colab-df-convert {\n",
              "      background-color: #3B4455;\n",
              "      fill: #D2E3FC;\n",
              "    }\n",
              "\n",
              "    [theme=dark] .colab-df-convert:hover {\n",
              "      background-color: #434B5C;\n",
              "      box-shadow: 0px 1px 3px 1px rgba(0, 0, 0, 0.15);\n",
              "      filter: drop-shadow(0px 1px 2px rgba(0, 0, 0, 0.3));\n",
              "      fill: #FFFFFF;\n",
              "    }\n",
              "  </style>\n",
              "\n",
              "      <script>\n",
              "        const buttonEl =\n",
              "          document.querySelector('#df-e9e808f8-89a1-4204-9477-d76d89cd0486 button.colab-df-convert');\n",
              "        buttonEl.style.display =\n",
              "          google.colab.kernel.accessAllowed ? 'block' : 'none';\n",
              "\n",
              "        async function convertToInteractive(key) {\n",
              "          const element = document.querySelector('#df-e9e808f8-89a1-4204-9477-d76d89cd0486');\n",
              "          const dataTable =\n",
              "            await google.colab.kernel.invokeFunction('convertToInteractive',\n",
              "                                                     [key], {});\n",
              "          if (!dataTable) return;\n",
              "\n",
              "          const docLinkHtml = 'Like what you see? Visit the ' +\n",
              "            '<a target=\"_blank\" href=https://colab.research.google.com/notebooks/data_table.ipynb>data table notebook</a>'\n",
              "            + ' to learn more about interactive tables.';\n",
              "          element.innerHTML = '';\n",
              "          dataTable['output_type'] = 'display_data';\n",
              "          await google.colab.output.renderOutput(dataTable, element);\n",
              "          const docLink = document.createElement('div');\n",
              "          docLink.innerHTML = docLinkHtml;\n",
              "          element.appendChild(docLink);\n",
              "        }\n",
              "      </script>\n",
              "    </div>\n",
              "  </div>\n"
            ]
          },
          "metadata": {},
          "execution_count": 32
        }
      ]
    },
    {
      "cell_type": "code",
      "source": [
        "# 4. Create a Bar Chart\n",
        "# # What is the most/least reviewed year?\n",
        "plt.figure(figsize=(15,5))\n",
        "ax = sns.barplot(data=df_review_prep,\n",
        "                 x='year',\n",
        "                 y='overallRating',\n",
        "                 estimator='count',\n",
        "                 errorbar=None)\n",
        "ax.bar_label(ax.containers[0]);\n",
        "plt.title('Count of Reviews by Year')\n",
        "plt.xlabel('Year')\n",
        "# Rotate x-axis labels\n",
        "plt.xticks(rotation=0)\n",
        "plt.ylabel('Count')\n",
        "plt.show()\n",
        "\n",
        "# Fix estimator, make to sure correct the axises and create a total"
      ],
      "metadata": {
        "id": "shkic8jeFozq",
        "colab": {
          "base_uri": "https://localhost:8080/",
          "height": 487
        },
        "outputId": "5b56fc37-bc24-40a1-a94d-7ae187052989"
      },
      "execution_count": 51,
      "outputs": [
        {
          "output_type": "display_data",
          "data": {
            "text/plain": [
              "<Figure size 1500x500 with 1 Axes>"
            ],
            "image/png": "[encoded data removed]"
          },
          "metadata": {}
        }
      ]
    },
    {
      "cell_type": "code",
      "source": [
        "# 4. Create a bar chart\n",
        "# What year are you most likely to get the highest/lowest mean review length?\n",
        "plt.figure(figsize=(15,5))\n",
        "ax = sns.barplot(data=df_review_prep,\n",
        "                 x='year',\n",
        "                 y='text_len',\n",
        "                 estimator='mean',\n",
        "                 errorbar=None)\n",
        "ax.bar_label(ax.containers[0]);\n",
        "plt.title('Mean Review Lengths by Year')\n",
        "plt.xlabel('Year')\n",
        "# Rotate x-axis labels\n",
        "plt.xticks(rotation=0)\n",
        "plt.ylabel('Count')\n",
        "plt.show()"
      ],
      "metadata": {
        "id": "s8hZt7bjBo-G",
        "colab": {
          "base_uri": "https://localhost:8080/",
          "height": 487
        },
        "outputId": "64e19061-9a1e-461b-c0e1-60306135297b"
      },
      "execution_count": 50,
      "outputs": [
        {
          "output_type": "display_data",
          "data": {
            "text/plain": [
              "<Figure size 1500x500 with 1 Axes>"
            ],
            "image/png": "[encoded data removed]"
          },
          "metadata": {}
        }
      ]
    },
    {
      "cell_type": "code",
      "source": [
        "# Let's create a subset/different data set for this new condition\n",
        "# We want July 2018 and we will do this by using query result\n",
        "july2018 = df_review_prep[df_review_prep['reviewTime'].dt.year == 2018]\n",
        "july2018 = df_review_prep[df_review_prep['reviewTime'].dt.month == 7]\n",
        "\n",
        "# Let's use groupb for july2018 and aggregate 'reviewTime' and put that in terms of day of week and then we also aggreate 'overallRating' and use the mean\n",
        "day_of_week_mean_rating = july2018.groupby(july2018['reviewTime'].dt.dayofweek)['overallRating'].mean().reset_index()\n",
        "\n",
        "# We are creating a querey result as we are curios which of the days of the week has the highest mean and lowest mean\n",
        "# We will use .loc for the dataframe\n",
        "# Then we will select the column \"overallRating\" and then find the max and min with idxmax/idxmin\n",
        "# Then we select 'reviewTime' as our final column\n",
        "highest_mean_rating_day = day_of_week_mean_rating.loc[day_of_week_mean_rating['overallRating'].idxmax(), 'reviewTime']\n",
        "lowest_mean_rating_day = day_of_week_mean_rating.loc[day_of_week_mean_rating['overallRating'].idxmin(), 'reviewTime']\n",
        "\n",
        "# Let's plot\n",
        "plt.figure(figsize=(15,5))\n",
        "ax = sns.barplot(data=day_of_week_mean_rating,\n",
        "                 x='reviewTime',\n",
        "                 y='overallRating',\n",
        "                 palette = 'viridis',\n",
        "                 errorbar=None)\n",
        "ax.bar_label(ax.containers[0]);\n",
        "plt.title('Mean Overall Rating in July 2018')\n",
        "plt.xlabel('Day of Week (Monday is 0 and Sunday is 6)')\n",
        "# Rotate x-axis labels\n",
        "plt.xticks(rotation=0)\n",
        "plt.ylabel('Count')\n",
        "plt.show()\n",
        "\n",
        "# To see exactly what day has the highest mean and lowest mean, we will use print\n",
        "print('\\nDay of the week with the highest mean overall rating in July 2018:', highest_mean_rating_day)\n",
        "print('\\nDay of the week with the lowest mean overall rating in July 2018:', lowest_mean_rating_day)"
      ],
      "metadata": {
        "id": "RfbB_V_DpeYB",
        "colab": {
          "base_uri": "https://localhost:8080/",
          "height": 556
        },
        "outputId": "842dd86d-a49d-4fa2-f7ca-4eeb43b35a8a"
      },
      "execution_count": 49,
      "outputs": [
        {
          "output_type": "display_data",
          "data": {
            "text/plain": [
              "<Figure size 1500x500 with 1 Axes>"
            ],
            "image/png": "[encoded data removed]"
          },
          "metadata": {}
        },
        {
          "output_type": "stream",
          "name": "stdout",
          "text": [
            "\n",
            "Day of the week with the highest mean overall rating in July 2018: 3\n",
            "\n",
            "Day of the week with the lowest mean overall rating in July 2018: 2\n"
          ]
        }
      ]
    },
    {
      "cell_type": "markdown",
      "source": [
        "## Step 6. Chat with your Data\n",
        "\n",
        "In this final step, let's build a naive chatbot that can answer simple questions about your data using a **While Loop** and **If-Else Structures**. A good reference to complete this task is [here](https://colab.research.google.com/github/MonkeyWrenchGang/PythonBootcamp/blob/main/day_3/3_4_Journey_into_WHILE_Loops.ipynb). Please follow the instructions and code the missing parts.\n",
        "\n",
        "-  Create a greeting for the user when the chatbot starts, use the `print()` function to display it. For example:\n",
        "```python\n",
        "print(\"Hello! I am your friendly chatbot that can answer simple questions about your data.\")\n",
        "```\n",
        "- Use a while loop to start a continuous conversation. The conversation should continue until the user types 'exit'.\n",
        "- Inside the while loop, use the `input()` function to get the name of a variable from the user, store it as `input_variable`. For example:\n",
        "```python\n",
        "input_variable = input(\"What variable would you like to ask me? (Type 'exit' to end the conversation) \")\n",
        "```\n",
        "- Check if the user's input is a valid column in the data frame `df_review_prep`.\n",
        " - If it is, print a message indicating that it's a valid variable and display its data type. For example:\n",
        " ```python\n",
        "print(\"Good!\", input_variable, \"is a valid variable in this dataset\")\n",
        "print('Its data type:', df_review_prep[input_variable].dtypes)\n",
        " ```\n",
        " - If it isn't, the user should be notified and asked to try again. For example:\n",
        " ```python\n",
        "print('Sorry, your input', input_variable,'is not a variable of the dataset. Please try it again :)')\n",
        " ```\n",
        "\n",
        "- If the user's chosen variable is an integer type 'int64'\n",
        "  - Use another `input()` to ask what statistic to report. The options should be 'count', 'mean', 'max', 'min', or 'all'. For example:\n",
        "  ```python\n",
        "  summary_stats = input(\"What statistic would you like to report? Type one from: [count, mean, max, min, all]\")\n",
        "  ```\n",
        "  - Depending on the user's input, calculate and display the requested statistic for this variable.\n",
        "  - If the input isn't recognized, display an error message. For example:\n",
        "  ```python\n",
        "  print('Please input a valid statistic.')\n",
        "  ```\n",
        "\n",
        "- If the user's chosen variable is NOT an integer type 'int64'\n",
        "```python\n",
        "print('Under development.. Stay tuned :)')\n",
        "```\n",
        "\n",
        "Example conversation：\n",
        "```\n",
        "Hello! I am your friendly chatbot that can answer simple questions about your data.\n",
        "What variable would you like to ask me? (Type 'exit' to end the conversation) overallRating\n",
        "Good! overallRating is a valid variable in this dataset\n",
        "Its data type: int64\n",
        "What statistic would you like to report? Type one from: [count, mean, max, min, all] all\n",
        "count    322098.000000\n",
        "mean          4.113881\n",
        "std           1.361587\n",
        "min           1.000000\n",
        "25%           4.000000\n",
        "50%           5.000000\n",
        "75%           5.000000\n",
        "max           5.000000\n",
        "Name: overallRating, dtype: float64\n",
        "What variable would you like to ask me? (Type 'exit' to end the conversation) exit\n",
        "Goodbye! It was nice chatting with you.\n",
        "```"
      ],
      "metadata": {
        "id": "V4aGXTjoWPWe"
      }
    },
    {
      "cell_type": "code",
      "source": [
        "df_review_prep.columns"
      ],
      "metadata": {
        "colab": {
          "base_uri": "https://localhost:8080/"
        },
        "id": "MaK5h6zBe-0r",
        "outputId": "fe79d611-6007-4a5e-bf82-c1a962d95253"
      },
      "execution_count": 53,
      "outputs": [
        {
          "output_type": "execute_result",
          "data": {
            "text/plain": [
              "Index(['reviewerID', 'reviewTime', 'itemID', 'reviewText', 'overallRating',\n",
              "       'verified', 'good_flag', 'great_flag', 'bad_flag', 'text_len', 'month',\n",
              "       'year', 'day', 'day_of_week'],\n",
              "      dtype='object')"
            ]
          },
          "metadata": {},
          "execution_count": 53
        }
      ]
    },
    {
      "cell_type": "code",
      "source": [
        "# Greet the user\n",
        "print(\"Hello! I am your friendly chatbot that can answer simple questions about your data.\")\n",
        "\n",
        "# Start the conversation\n",
        "while True:\n",
        "    input_variable = input(\"What variable would you like to ask me? (Type 'exit' to end the conversation) \")\n",
        "\n",
        "    # Check if the user wants to exit\n",
        "    if input_variable.lower() in [\"exit\",\"quit\"]:\n",
        "        print(\"Goodbye! It was nice chatting with you.\")\n",
        "        break\n",
        "\n",
        "    # Look up response in the our data frame's column\n",
        "    if input_variable in df_review_prep.columns:\n",
        "      print(\"Good!\", input_variable, \"is a valid variable in this dataset\")\n",
        "      print('Its data type:', df_review_prep[input_variable].dtypes)\n",
        "\n",
        "    # Let's go to step 2, If the user's chosen variable is an integer type 'int64'\n",
        "    # We are also going to create a nested if statement\n",
        "      if df_review_prep[input_variable].dtypes == 'int64':\n",
        "          summary_stats = input(\"What statistic would you like to report? Type one from: [count, mean, max, min, all]\")\n",
        "          #Nested Part\n",
        "          if summary_stats.lower() == 'count':\n",
        "                result = df_review_prep[input_variable].count()\n",
        "          elif summary_stats.lower() == 'mean':\n",
        "                result = df_review_prep[input_variable].mean()\n",
        "          elif summary_stats.lower() == 'max':\n",
        "                result = df_review_prep[input_variable].max()\n",
        "          elif summary_stats.lower() == 'min':\n",
        "                result = df_review_prep[input_variable].min()\n",
        "          elif summary_stats.lower() == 'std':\n",
        "                result = df_review_prep[input_variable].std()\n",
        "          elif summary_stats.lower() == 'all':\n",
        "                result = {                        # Created a dictionary\n",
        "                    'Count': df_review_prep[input_variable].count(),\n",
        "                    'Mean': df_review_prep[input_variable].mean(),\n",
        "                    'Standard Deviation': df_review_prep[input_variable].std(),\n",
        "                    'Min': df_review_prep[input_variable].min(),\n",
        "                    '25 Percentile': df_review_prep[input_variable].quantile(0.25),\n",
        "                    '50th Percentile (Median)': df_review_prep[input_variable].quantile(0.50),\n",
        "                    '75 Percentile': df_review_prep[input_variable].quantile(0.75),\n",
        "                    'Max': df_review_prep[input_variable].max()\n",
        "                }\n",
        "          else:\n",
        "            print('Please input a valid statistic.')\n",
        "            continue\n",
        "          if isinstance(result, dict):            # Use isinstance(obj, class_or_tuple) to check our result. We are checking if result is in dictionary\n",
        "            for stat, value in result.items():    # For loop\n",
        "              if stat == 'Max':                   # Define Stat\n",
        "                print(f'{stat}: {value}')\n",
        "                print(f'Variable name: {input_variable}')\n",
        "                print(f'Data Type: {df_review_prep[input_variable].dtype}')\n",
        "              else:\n",
        "                print(f'{stat}: {value}')\n",
        "          else:\n",
        "              print(f'{summary_stats.capitalize()}: {result}')\n",
        "      else:\n",
        "        print('Under development.. Stay Tuned :)')\n",
        "    else:\n",
        "      print('Sorry, your input',input_variable,'is not a variable of the dataset. Please try again :)')\n",
        "\n",
        "# End of the program"
      ],
      "metadata": {
        "id": "emqDjFrOYJhv",
        "colab": {
          "base_uri": "https://localhost:8080/"
        },
        "outputId": "d6755468-8987-4d7d-d9e8-0cb5cdc4c964"
      },
      "execution_count": 82,
      "outputs": [
        {
          "output_type": "stream",
          "name": "stdout",
          "text": [
            "Hello! I am your friendly chatbot that can answer simple questions about your data.\n",
            "What variable would you like to ask me? (Type 'exit' to end the conversation) overallRating\n",
            "Good! overallRating is a valid variable in this dataset\n",
            "Its data type: int64\n",
            "What statistic would you like to report? Type one from: [count, mean, max, min, all]all\n",
            "Count: 322098\n",
            "Mean: 4.113881489484567\n",
            "Standard Deviation: 1.3615869018004614\n",
            "Min: 1\n",
            "25 Percentile: 4.0\n",
            "50th Percentile (Median): 5.0\n",
            "75 Percentile: 5.0\n",
            "Max: 5\n",
            "Variable name: overallRating\n",
            "Data Type: int64\n",
            "What variable would you like to ask me? (Type 'exit' to end the conversation) exit\n",
            "Goodbye! It was nice chatting with you.\n"
          ]
        }
      ]
    },
    {
      "cell_type": "markdown",
      "source": [
        "\n",
        "# Finally\n",
        "\n",
        "**Important**: Wrap this up in a notebook and convert it to **HTML**, to exceed the bar - make sure things look good."
      ],
      "metadata": {
        "id": "aSQ3Dy7-4XdP"
      }
    }
  ]
}